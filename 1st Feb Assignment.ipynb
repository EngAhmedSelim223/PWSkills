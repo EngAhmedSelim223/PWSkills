{
 "cells": [
  {
   "cell_type": "code",
   "execution_count": 1,
   "id": "7a583643-44af-4de8-a5aa-f96796bc95aa",
   "metadata": {},
   "outputs": [],
   "source": [
    "# Assignement 1 : flatten a list of lists into a single list\n",
    "lists = [[1,2,3], [4,5,6], [7,8,9]]"
   ]
  },
  {
   "cell_type": "code",
   "execution_count": 3,
   "id": "f466ed0f-cbad-4142-a518-5c8935a98e36",
   "metadata": {},
   "outputs": [
    {
     "data": {
      "text/plain": [
       "[1, 2, 3, 4, 5, 6, 7, 8, 9]"
      ]
     },
     "execution_count": 3,
     "metadata": {},
     "output_type": "execute_result"
    }
   ],
   "source": [
    "# Assignement 1 Solution\n",
    "[x for lst in lists for x in lst]"
   ]
  },
  {
   "cell_type": "code",
   "execution_count": 15,
   "id": "a7bf55b5-ab16-4d6c-8937-ace82ed00d88",
   "metadata": {},
   "outputs": [],
   "source": [
    "# Assignement 2 : Create a list of only the prime numbers from the list\n",
    "numbers = [1,2,3,4,5,6,7,8,9,10]"
   ]
  },
  {
   "cell_type": "code",
   "execution_count": 16,
   "id": "07126bc9-82f5-465c-b308-2513a376f4bd",
   "metadata": {},
   "outputs": [],
   "source": [
    "# Assignement 2 Solution\n",
    "prime_set = set([prime for prime in[x for x in numbers for num in range(1,len(numbers)+1) if x % num == 0] if [x for x in numbers for num in range(1,len(numbers)+1) if x % num == 0].count(prime) <= 2])\n",
    "prime_list = list(prime_set)"
   ]
  },
  {
   "cell_type": "code",
   "execution_count": 17,
   "id": "2afb4e45-da1f-4410-a12c-c61456cd5450",
   "metadata": {},
   "outputs": [
    {
     "data": {
      "text/plain": [
       "[1, 2, 3, 5, 7]"
      ]
     },
     "execution_count": 17,
     "metadata": {},
     "output_type": "execute_result"
    }
   ],
   "source": [
    "prime_list"
   ]
  },
  {
   "cell_type": "code",
   "execution_count": 18,
   "id": "4a16611d-d28b-4d73-bd5b-3aa07487737b",
   "metadata": {},
   "outputs": [],
   "source": [
    "# Assignement 3: Create a list of all possible combinations of 2 elements from a list\n",
    "lst = [1,2,3,4,5]"
   ]
  },
  {
   "cell_type": "code",
   "execution_count": 32,
   "id": "36fc9e7e-bb54-4788-846a-29588371505c",
   "metadata": {},
   "outputs": [
    {
     "data": {
      "text/plain": [
       "[(1, 1),\n",
       " (1, 2),\n",
       " (1, 3),\n",
       " (1, 4),\n",
       " (1, 5),\n",
       " (2, 1),\n",
       " (2, 2),\n",
       " (2, 3),\n",
       " (2, 4),\n",
       " (2, 5),\n",
       " (3, 1),\n",
       " (3, 2),\n",
       " (3, 3),\n",
       " (3, 4),\n",
       " (3, 5),\n",
       " (4, 1),\n",
       " (4, 2),\n",
       " (4, 3),\n",
       " (4, 4),\n",
       " (4, 5),\n",
       " (5, 1),\n",
       " (5, 2),\n",
       " (5, 3),\n",
       " (5, 4),\n",
       " (5, 5)]"
      ]
     },
     "execution_count": 32,
     "metadata": {},
     "output_type": "execute_result"
    }
   ],
   "source": [
    "[(strx, y) for x in lst for y in lst ]"
   ]
  },
  {
   "cell_type": "code",
   "execution_count": null,
   "id": "47016604-6f9b-4224-ba4a-4344ac3f623f",
   "metadata": {},
   "outputs": [],
   "source": []
  },
  {
   "cell_type": "code",
   "execution_count": null,
   "id": "e4fe9afb-4c41-469a-bae9-8bbf5ab50d8f",
   "metadata": {},
   "outputs": [],
   "source": []
  }
 ],
 "metadata": {
  "kernelspec": {
   "display_name": "Python 3 (ipykernel)",
   "language": "python",
   "name": "python3"
  },
  "language_info": {
   "codemirror_mode": {
    "name": "ipython",
    "version": 3
   },
   "file_extension": ".py",
   "mimetype": "text/x-python",
   "name": "python",
   "nbconvert_exporter": "python",
   "pygments_lexer": "ipython3",
   "version": "3.10.8"
  }
 },
 "nbformat": 4,
 "nbformat_minor": 5
}
