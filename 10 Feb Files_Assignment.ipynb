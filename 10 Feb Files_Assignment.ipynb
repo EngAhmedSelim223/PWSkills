{
 "cells": [
  {
   "cell_type": "markdown",
   "id": "0313362d",
   "metadata": {},
   "source": [
    "##### Q1. Which function is used to open a file? What are the different modes of opening a file? Explain each mode of file opening."
   ]
  },
  {
   "cell_type": "code",
   "execution_count": 1,
   "id": "cec72cb1",
   "metadata": {},
   "outputs": [],
   "source": [
    "# Q1.Answer:\n",
    "# we use open() function to open file \n",
    "# we can ope file in different modes like r, w, a, wb, rb\n",
    "\n",
    "with open(\"file.txt\", \"w\") as f:\n",
    "    f.write(\"this is my file\")"
   ]
  },
  {
   "cell_type": "markdown",
   "id": "6b0224dc",
   "metadata": {},
   "source": [
    "##### Q2. Why close() function is used? Why is it important to close a file?"
   ]
  },
  {
   "cell_type": "code",
   "execution_count": 2,
   "id": "905a4c94",
   "metadata": {},
   "outputs": [],
   "source": [
    "# Q2.Answer:\n",
    "# close function used to close file and it's important because some data operation in the buffer maybe lost if we did not close the file"
   ]
  },
  {
   "cell_type": "markdown",
   "id": "5c18a02a",
   "metadata": {},
   "source": [
    "###### Q3. Write a python program to create a text file. Write ‘I want to become a Data Scientist’ in that file. Then close the file. Open this file and read the content of the file."
   ]
  },
  {
   "cell_type": "code",
   "execution_count": 8,
   "id": "9b5083ae",
   "metadata": {},
   "outputs": [],
   "source": [
    "# Q3.Answer:\n",
    "\n",
    "file = open(\"file1.txt\", \"w\")"
   ]
  },
  {
   "cell_type": "code",
   "execution_count": 4,
   "id": "1568a03f",
   "metadata": {},
   "outputs": [],
   "source": [
    "file.write(\"I want to become a Data Scientist\")\n",
    "file.close()"
   ]
  },
  {
   "cell_type": "code",
   "execution_count": 6,
   "id": "8cc594f9",
   "metadata": {},
   "outputs": [],
   "source": [
    "with open(\"file1.txt\", \"r\") as f:\n",
    "    data = f.read()"
   ]
  },
  {
   "cell_type": "code",
   "execution_count": 7,
   "id": "29b25fb4",
   "metadata": {},
   "outputs": [
    {
     "data": {
      "text/plain": [
       "'I want to become a Data Scientist'"
      ]
     },
     "execution_count": 7,
     "metadata": {},
     "output_type": "execute_result"
    }
   ],
   "source": [
    "data"
   ]
  },
  {
   "cell_type": "markdown",
   "id": "6fa06b76",
   "metadata": {},
   "source": [
    "##### Q4. Explain the following with python code: read(), readline() and readlines()."
   ]
  },
  {
   "cell_type": "code",
   "execution_count": 9,
   "id": "3d29e3a9",
   "metadata": {},
   "outputs": [],
   "source": [
    "# Q4.Answer:\n",
    "# read() ==> returns the text as a string of n chrachters\n",
    "# readline() ==> return the first line of the text .\n",
    "# readlines() ==> returns the text as a list of all that text lines\n",
    "\n",
    "with open(\"test.txt\", \"w\") as myfile:\n",
    "    for i in range(5):\n",
    "        myfile.write(f\"this is line number {i}\\n\")"
   ]
  },
  {
   "cell_type": "code",
   "execution_count": 11,
   "id": "46e759ee",
   "metadata": {},
   "outputs": [],
   "source": [
    "with open(\"test.txt\", \"r\") as f:\n",
    "    read_data = f.read()"
   ]
  },
  {
   "cell_type": "code",
   "execution_count": 12,
   "id": "b16ecdc9",
   "metadata": {},
   "outputs": [
    {
     "data": {
      "text/plain": [
       "'this is line number 0\\nthis is line number 1\\nthis is line number 2\\nthis is line number 3\\nthis is line number 4\\n'"
      ]
     },
     "execution_count": 12,
     "metadata": {},
     "output_type": "execute_result"
    }
   ],
   "source": [
    "read_data"
   ]
  },
  {
   "cell_type": "code",
   "execution_count": 17,
   "id": "51124ee8",
   "metadata": {},
   "outputs": [],
   "source": [
    "with open(\"test.txt\", \"r\") as f:\n",
    "    readline_data = f.readline()"
   ]
  },
  {
   "cell_type": "code",
   "execution_count": 18,
   "id": "6e356e74",
   "metadata": {},
   "outputs": [
    {
     "data": {
      "text/plain": [
       "'th'"
      ]
     },
     "execution_count": 18,
     "metadata": {},
     "output_type": "execute_result"
    }
   ],
   "source": [
    "readline_data"
   ]
  },
  {
   "cell_type": "code",
   "execution_count": 19,
   "id": "09a96e9d",
   "metadata": {},
   "outputs": [],
   "source": [
    "with open(\"test.txt\", \"r\") as f:\n",
    "    readlines_data = f.readlines()"
   ]
  },
  {
   "cell_type": "code",
   "execution_count": 20,
   "id": "90c906b4",
   "metadata": {},
   "outputs": [
    {
     "data": {
      "text/plain": [
       "['this is line number 0\\n',\n",
       " 'this is line number 1\\n',\n",
       " 'this is line number 2\\n',\n",
       " 'this is line number 3\\n',\n",
       " 'this is line number 4\\n']"
      ]
     },
     "execution_count": 20,
     "metadata": {},
     "output_type": "execute_result"
    }
   ],
   "source": [
    "readlines_data"
   ]
  },
  {
   "cell_type": "markdown",
   "id": "76d9d51e",
   "metadata": {},
   "source": [
    "##### Q5. Explain why with statement is used with open(). What is the advantage of using with statement and open() together?"
   ]
  },
  {
   "cell_type": "code",
   "execution_count": 21,
   "id": "3a3df375",
   "metadata": {},
   "outputs": [],
   "source": [
    "# with statement used with open to open a file in asimple way that will close the file automatically after finishing the work and this is an advantage"
   ]
  },
  {
   "cell_type": "markdown",
   "id": "9ecb1fb3",
   "metadata": {},
   "source": [
    "##### Q6. Explain the write() and writelines() functions. Give a suitable example."
   ]
  },
  {
   "cell_type": "code",
   "execution_count": 22,
   "id": "58081eda",
   "metadata": {},
   "outputs": [],
   "source": [
    "# Q6.Answer:\n",
    "\n",
    "# Write used to write normal text to a file but writelines used to write iterable that could be a list of strings to a file\n",
    "\n",
    "with open(\"test2.txt\", \"w\") as f:\n",
    "    f.write(\"this is my text using write method\\n\")"
   ]
  },
  {
   "cell_type": "code",
   "execution_count": 23,
   "id": "311b90ff",
   "metadata": {},
   "outputs": [],
   "source": [
    "with open(\"test2.txt\", \"r\") as f:\n",
    "    data = f.read()"
   ]
  },
  {
   "cell_type": "code",
   "execution_count": 24,
   "id": "da7bbe51",
   "metadata": {},
   "outputs": [
    {
     "data": {
      "text/plain": [
       "'this is my text using write method\\n'"
      ]
     },
     "execution_count": 24,
     "metadata": {},
     "output_type": "execute_result"
    }
   ],
   "source": [
    "data"
   ]
  },
  {
   "cell_type": "code",
   "execution_count": 26,
   "id": "3d8d4128",
   "metadata": {},
   "outputs": [],
   "source": [
    "lst = [\"ahmed\", \"ahmed@gmail.com\", \"data science masters\"]"
   ]
  },
  {
   "cell_type": "code",
   "execution_count": 27,
   "id": "aa559bb9",
   "metadata": {},
   "outputs": [],
   "source": [
    "with open(\"test2.txt\", \"a\") as f:\n",
    "    f.writelines(lst)"
   ]
  },
  {
   "cell_type": "code",
   "execution_count": 30,
   "id": "ee13dd27",
   "metadata": {},
   "outputs": [],
   "source": [
    "with open(\"test2.txt\", \"r\") as f:\n",
    "    data = f.readlines()"
   ]
  },
  {
   "cell_type": "code",
   "execution_count": 31,
   "id": "f469cb31",
   "metadata": {},
   "outputs": [
    {
     "data": {
      "text/plain": [
       "['this is my text using write method\\n',\n",
       " 'ahmedahmed@gmail.comdata science masters']"
      ]
     },
     "execution_count": 31,
     "metadata": {},
     "output_type": "execute_result"
    }
   ],
   "source": [
    "data"
   ]
  },
  {
   "cell_type": "code",
   "execution_count": null,
   "id": "37281905",
   "metadata": {},
   "outputs": [],
   "source": []
  }
 ],
 "metadata": {
  "kernelspec": {
   "display_name": "Python 3 (ipykernel)",
   "language": "python",
   "name": "python3"
  },
  "language_info": {
   "codemirror_mode": {
    "name": "ipython",
    "version": 3
   },
   "file_extension": ".py",
   "mimetype": "text/x-python",
   "name": "python",
   "nbconvert_exporter": "python",
   "pygments_lexer": "ipython3",
   "version": "3.9.7"
  }
 },
 "nbformat": 4,
 "nbformat_minor": 5
}
