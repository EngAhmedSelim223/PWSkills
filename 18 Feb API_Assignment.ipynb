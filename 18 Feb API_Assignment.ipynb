{
 "cells": [
  {
   "cell_type": "markdown",
   "id": "1bdea3bb-97e5-4b6a-b5c7-8d2be88f5f01",
   "metadata": {},
   "source": [
    "##### Q1. What is an API? Give an example, where an API is used in real life."
   ]
  },
  {
   "cell_type": "code",
   "execution_count": 1,
   "id": "f960cea0-ca83-4742-9852-9455f8fc88de",
   "metadata": {},
   "outputs": [],
   "source": [
    "# Q1.Answer:\n",
    "# API --> it's application programming interface and used to let homogenous or hetrougenous applications communicate with each other\n",
    "# for example our finance operations using a wallet application this application communicate with the bank system using API"
   ]
  },
  {
   "cell_type": "markdown",
   "id": "3d4b5b75-00fb-46d1-b5c9-6bdb92e6fe9e",
   "metadata": {},
   "source": [
    "##### Q2. Give advantages and disadvantages of using API."
   ]
  },
  {
   "cell_type": "code",
   "execution_count": 2,
   "id": "5c3f8573-1b48-484c-a8a2-b82a0b255229",
   "metadata": {},
   "outputs": [],
   "source": [
    "# Q2.Answer: \n",
    "# from my point of view the advantage is --> it gives the product more value as it give the product the ability \n",
    "# to integrate with third party tools and other applications \n",
    "\n",
    "# the disadvantage is --> you will cost building this API and it needs to be maintained \n",
    "# and also the security of your application will be in risk if you don't secure this API very well"
   ]
  },
  {
   "cell_type": "markdown",
   "id": "4630c9a3-dbfc-4608-91ea-ed8b2dbefa15",
   "metadata": {},
   "source": [
    "##### Q3. What is a Web API? Differentiate between API and Web API."
   ]
  },
  {
   "cell_type": "code",
   "execution_count": 3,
   "id": "cce8ee15-9189-42d3-b013-0818100a4251",
   "metadata": {},
   "outputs": [],
   "source": [
    "# Q3.Answer: \n",
    "\n",
    "# Web API --> is a subset of API which deal with web applications and it uses only the http protocol to communicate \n",
    "# API --> is the supper set whether the application is online or offline and it uses TCP, SMTP, HTTP"
   ]
  },
  {
   "cell_type": "markdown",
   "id": "6d825250-933e-46a1-b5ec-15ab79555212",
   "metadata": {},
   "source": [
    "##### Q4. Explain REST and SOAP Architecture. Mention shortcomings of SOAP."
   ]
  },
  {
   "cell_type": "code",
   "execution_count": 5,
   "id": "997c7036-cc55-44b8-a803-01f313e62860",
   "metadata": {},
   "outputs": [],
   "source": [
    "# Q4.Answer: \n",
    "\n",
    "# REST --> representational state transfer - it use the HTTP protocol with these functions\n",
    "# PUT, GET, POST , DELETE any one will make API will use these functions\n",
    "\n",
    "# SOAP --> simple object access protocol it uses TCP, SMTP in communication and it's more difficult than REST but also more secure\n",
    "\n",
    "# shortcomings of SOAP --> not cachable like REST - more complicated in creation - it supports only XML formats"
   ]
  },
  {
   "cell_type": "markdown",
   "id": "f39779aa-8e59-4c39-9fd8-7c399a340112",
   "metadata": {},
   "source": [
    "##### Q5. Differentiate between REST and SOAP."
   ]
  },
  {
   "cell_type": "code",
   "execution_count": 6,
   "id": "52e8e62a-f4f9-4517-a871-21b88619a8cb",
   "metadata": {},
   "outputs": [],
   "source": [
    "# Q5.Answer: \n",
    "\n",
    "# i think most of differences mentioned above but in addition to that you have to determine which one you will use in your application \n",
    "# if you search for scalability and flexibility you have to use REST\n",
    "# if you search for the security you have to use SOAP as an API solution "
   ]
  },
  {
   "cell_type": "code",
   "execution_count": null,
   "id": "3f6267e4-0dd6-484f-9f5d-7902ff134fa6",
   "metadata": {},
   "outputs": [],
   "source": []
  }
 ],
 "metadata": {
  "kernelspec": {
   "display_name": "Python 3 (ipykernel)",
   "language": "python",
   "name": "python3"
  },
  "language_info": {
   "codemirror_mode": {
    "name": "ipython",
    "version": 3
   },
   "file_extension": ".py",
   "mimetype": "text/x-python",
   "name": "python",
   "nbconvert_exporter": "python",
   "pygments_lexer": "ipython3",
   "version": "3.10.8"
  }
 },
 "nbformat": 4,
 "nbformat_minor": 5
}
