{
 "cells": [
  {
   "cell_type": "markdown",
   "id": "df276e99-e8a8-45c0-acf9-976b2505864b",
   "metadata": {},
   "source": [
    "##### Q1. Explain Class and Object with respect to Object-Oriented Programming. Give a suitable example."
   ]
  },
  {
   "cell_type": "code",
   "execution_count": 2,
   "id": "16a29aa6-0d67-4e05-b072-08ad89d442c7",
   "metadata": {},
   "outputs": [],
   "source": [
    "# Q1.Answer:\n",
    "# class in oop is the skelton means instead of making seprate code for each instance why not making a bluebrint and all instances take the functionality of this class \n",
    "# for example if we want to make an app to show info about car makers if we work with the ordinary way we will create functionality for each car maker\n",
    "# and this not good for readability and maintencce\n",
    "\n",
    "class car_maker:\n",
    "    def __init__(self, maker, year):\n",
    "        self.maker = maker\n",
    "        self.year = year\n",
    "    def car_info(self):\n",
    "        return f\"car maker is {self.maker} and construction year is {self.year}\"\n",
    "        "
   ]
  },
  {
   "cell_type": "code",
   "execution_count": 3,
   "id": "602fc856-0756-4b50-ac51-6395a1a7ea59",
   "metadata": {},
   "outputs": [
    {
     "name": "stdout",
     "output_type": "stream",
     "text": [
      "car maker is toyota and construction year is 2008\n",
      "car maker is BMW and construction year is 2010\n",
      "car maker is Mercedes and construction year is 2022\n"
     ]
    }
   ],
   "source": [
    "toyota = car_maker(\"toyota\", 2008)\n",
    "BMW = car_maker(\"BMW\", 2010)\n",
    "mercedes = car_maker(\"Mercedes\",  2022)\n",
    "print(toyota.car_info())\n",
    "print(BMW.car_info())\n",
    "print(mercedes.car_info())"
   ]
  },
  {
   "cell_type": "markdown",
   "id": "f73a0f41-7545-4d09-92d4-0bf283fc8756",
   "metadata": {},
   "source": [
    "##### Q2. Name the four pillars of OOPs."
   ]
  },
  {
   "cell_type": "code",
   "execution_count": 4,
   "id": "ad2a9110-9512-429b-842a-a17c4d982d79",
   "metadata": {},
   "outputs": [],
   "source": [
    "# Q2.Answer:\n",
    "# the most important pillars in OOPS are inhertance - Encapsulation - Polymorphism - Abstraction"
   ]
  },
  {
   "cell_type": "markdown",
   "id": "8efc45ee-7fe6-4df7-b826-91b95c968280",
   "metadata": {},
   "source": [
    "Q3. Explain why the __init__() function is used. Give a suitable example."
   ]
  },
  {
   "cell_type": "code",
   "execution_count": 5,
   "id": "66e8edb2-e9b9-4495-9f9e-f1a17cc20df3",
   "metadata": {},
   "outputs": [],
   "source": [
    "# Q3.Answer:\n",
    "\n",
    "# init considered the door of the class as it's the first thing runs when making and calling the class through an object and it's make\n",
    "# some variable required when using a certain class \n",
    "class withinit:\n",
    "    def __init__(self):\n",
    "        print(\"Class With Init Method\")\n",
    "\n",
    "        \n",
    "class without_init:\n",
    "    pass\n"
   ]
  },
  {
   "cell_type": "code",
   "execution_count": 7,
   "id": "5303ba2d-a475-4b76-a93e-72075476db5d",
   "metadata": {},
   "outputs": [
    {
     "name": "stdout",
     "output_type": "stream",
     "text": [
      "Class With Init Method\n"
     ]
    }
   ],
   "source": [
    "a = withinit()"
   ]
  },
  {
   "cell_type": "code",
   "execution_count": 8,
   "id": "a73f4f05-8517-47c4-a4b2-f7904d54f003",
   "metadata": {},
   "outputs": [],
   "source": [
    "b = without_init"
   ]
  },
  {
   "cell_type": "markdown",
   "id": "8da0ae8d-56ca-4aca-9b34-7b6fa27caf86",
   "metadata": {},
   "source": [
    "##### Q4. Why self is used in OOPs?"
   ]
  },
  {
   "cell_type": "code",
   "execution_count": 9,
   "id": "daf500da-b980-4569-bcc5-46105bec267d",
   "metadata": {},
   "outputs": [],
   "source": [
    "# Q4.Answer:\n",
    "\n",
    "# self used as a placeholder for the new objects that will be created from this class"
   ]
  },
  {
   "cell_type": "markdown",
   "id": "3bdd0839-2cc5-4a78-a5ee-4503f2cbe195",
   "metadata": {},
   "source": [
    "##### Q5. What is inheritance? Give an example for each type of inheritance.\n"
   ]
  },
  {
   "cell_type": "code",
   "execution_count": 10,
   "id": "3e6d2555-9b0e-43bd-8093-05f02f5e3248",
   "metadata": {},
   "outputs": [],
   "source": [
    "# Q5.Answer:\n",
    "# inhertance means inherit features from uplevel class and this help to increase code usability \n",
    "# single inhertance \n",
    "\n",
    "class class1:\n",
    "    def __init__(self):\n",
    "        print(\"this is class 1\")\n",
    "    def method_class1(self):\n",
    "        print(\"this is class 1 method\")"
   ]
  },
  {
   "cell_type": "code",
   "execution_count": 12,
   "id": "248b5761-0386-4642-b012-1c6cc43033a0",
   "metadata": {},
   "outputs": [],
   "source": [
    "class class2(class1):\n",
    "    def __init__(self):\n",
    "        print(\"this is class 2\")\n",
    "        \n",
    "    def method_class2(self):\n",
    "        print(\"this is class 2 method \")"
   ]
  },
  {
   "cell_type": "code",
   "execution_count": 13,
   "id": "23ddd30c-1b35-437d-9a62-0cd155c76c57",
   "metadata": {},
   "outputs": [
    {
     "name": "stdout",
     "output_type": "stream",
     "text": [
      "this is class 2\n"
     ]
    }
   ],
   "source": [
    "class2_obj = class2()\n",
    "# if we press . we will find the method_class2, method_class1 also "
   ]
  },
  {
   "cell_type": "code",
   "execution_count": 15,
   "id": "62d7aa60-1aa6-45a0-bb7f-1ea9ba5d1c33",
   "metadata": {},
   "outputs": [],
   "source": [
    "# this is multi inhertance exaample\n",
    "class class3(class2, class1):\n",
    "    def __init__(self):\n",
    "        print(\"this is class 3\")\n",
    "        \n",
    "    def method_class3(self):\n",
    "        print(\"this is class 3 method\")"
   ]
  },
  {
   "cell_type": "code",
   "execution_count": 16,
   "id": "bd192b0e-5cc6-4ae8-927a-5d1cce8547b7",
   "metadata": {},
   "outputs": [],
   "source": [
    "# this is multi leve inhertance \n",
    "\n",
    "class class4(class3):\n",
    "    def __init__(self):\n",
    "        print(\"this is class 4\")\n",
    "        \n",
    "    def method_class4(self):\n",
    "        print(\"this is class 4 method\")"
   ]
  },
  {
   "cell_type": "code",
   "execution_count": 17,
   "id": "a82799a8-8a2c-4251-a6fa-b6233eca81e1",
   "metadata": {},
   "outputs": [
    {
     "name": "stdout",
     "output_type": "stream",
     "text": [
      "this is class 4\n"
     ]
    }
   ],
   "source": [
    "class4_obj = class4()\n",
    "# here if we press . we will find all the methods from class1, class2, class3, and also class 4"
   ]
  },
  {
   "cell_type": "code",
   "execution_count": null,
   "id": "62f07015-2b25-4660-99b3-d67e7cabdd52",
   "metadata": {},
   "outputs": [],
   "source": []
  }
 ],
 "metadata": {
  "kernelspec": {
   "display_name": "Python 3 (ipykernel)",
   "language": "python",
   "name": "python3"
  },
  "language_info": {
   "codemirror_mode": {
    "name": "ipython",
    "version": 3
   },
   "file_extension": ".py",
   "mimetype": "text/x-python",
   "name": "python",
   "nbconvert_exporter": "python",
   "pygments_lexer": "ipython3",
   "version": "3.10.8"
  }
 },
 "nbformat": 4,
 "nbformat_minor": 5
}
