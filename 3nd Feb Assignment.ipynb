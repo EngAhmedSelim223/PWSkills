{
 "cells": [
  {
   "cell_type": "markdown",
   "id": "eec7cc8a-f199-4e20-a880-b16bf6f3947c",
   "metadata": {},
   "source": [
    "##### Q1. Which keyword is used to create a function? Create a function to return a list of odd numbers in the range of to  25?"
   ]
  },
  {
   "cell_type": "code",
   "execution_count": 85,
   "id": "e92568ee-83de-48a0-927d-8d81b6b04467",
   "metadata": {},
   "outputs": [
    {
     "data": {
      "text/plain": [
       "[1, 3, 5, 7, 9, 11, 13, 15, 17, 19, 21, 23, 25]"
      ]
     },
     "execution_count": 85,
     "metadata": {},
     "output_type": "execute_result"
    }
   ],
   "source": [
    "# Q1.Answer: We use def to create function\n",
    "\n",
    "def odd():\n",
    "    return [x for x in range(0,26) if x % 2 != 0]\n",
    "odd()"
   ]
  },
  {
   "cell_type": "markdown",
   "id": "14339aae-f2b2-4a22-8e11-8eb4cf212400",
   "metadata": {},
   "source": [
    "##### Q2. Why *args and **kwargs is used in some functions? Create a function each for *args and **kwargs to demonstrate their use?\n"
   ]
  },
  {
   "cell_type": "code",
   "execution_count": 86,
   "id": "27d95dd1-82a7-447e-a614-b2499cfe3d7d",
   "metadata": {},
   "outputs": [
    {
     "data": {
      "text/plain": [
       "(1, 2, 'ahmed', [4, 5, 6])"
      ]
     },
     "execution_count": 86,
     "metadata": {},
     "output_type": "execute_result"
    }
   ],
   "source": [
    "## Q2.Answer: *args is used when the function parameters is unknown and it's output is a tuple, and **kwargs is the same but the parameters are as key value input and the output is a dictionary\n",
    "\n",
    "def args(*args):\n",
    "    return args\n",
    "args(1,2,\"ahmed\", [4,5,6])"
   ]
  },
  {
   "cell_type": "code",
   "execution_count": 87,
   "id": "be4875b4-0467-4be2-b03a-fed5092fdde4",
   "metadata": {},
   "outputs": [
    {
     "data": {
      "text/plain": [
       "{'name': 'Ahmed', 'age': 27, 'email': 'ahmed@gmail.com'}"
      ]
     },
     "execution_count": 87,
     "metadata": {},
     "output_type": "execute_result"
    }
   ],
   "source": [
    "def kwargs(**kwargs):\n",
    "    return kwargs\n",
    "kwargs(name = \"Ahmed\", age = 27 , email = \"ahmed@gmail.com\")"
   ]
  },
  {
   "cell_type": "markdown",
   "id": "cf747361-1cc0-4c31-ae0d-18eed1a59e73",
   "metadata": {},
   "source": [
    "###### Q3. What is an iterator in python? Name the method used to initialise the iterator object and the method\n",
    "used for iteration. Use these methods to print the first five elements of the given list [2, 4, 6, 8, 10, 12, 14, 16,\n",
    "18, 20]?\n"
   ]
  },
  {
   "cell_type": "code",
   "execution_count": 88,
   "id": "dcb73adf-5bef-4ab3-ae2a-dcc6523f1a5f",
   "metadata": {},
   "outputs": [
    {
     "name": "stdout",
     "output_type": "stream",
     "text": [
      "2\n",
      "4\n",
      "6\n",
      "8\n",
      "10\n"
     ]
    }
   ],
   "source": [
    "# Q3.Answer: iteratable is a collection of items that we can loop to extract certain value ,methods of this iterations are list(), dict(), set(), and tuple() and \n",
    "# iterator is an object which implements the iterator protocol which done with iter() and next()\n",
    "\n",
    "lst = [2, 4, 6, 8, 10, 12, 14, 16, 18, 20]\n",
    "\n",
    "iterator = iter(lst)\n",
    "for i in range(5):\n",
    "    print(next(iterator))"
   ]
  },
  {
   "cell_type": "markdown",
   "id": "2155b723-2f34-4921-91e8-0e37540d81ce",
   "metadata": {},
   "source": [
    "##### Q4. What is a generator function in python? Why yield keyword is used? Give an example of a generator function?"
   ]
  },
  {
   "cell_type": "code",
   "execution_count": 89,
   "id": "5eedb5df-70a0-45d0-aa5c-9206e5bc0afd",
   "metadata": {},
   "outputs": [
    {
     "name": "stdout",
     "output_type": "stream",
     "text": [
      "2\n",
      "4\n",
      "6\n",
      "8\n",
      "10\n",
      "12\n",
      "14\n"
     ]
    }
   ],
   "source": [
    "# Q4.Answer: a generator function is a function that return iterator only when the iteration done and this make the memory consuming less\n",
    "# yield keword is used in the generator function to return the iterator\n",
    "lst = [1,2,3,4,5,6,7,8,9,10,11,12,13,14]\n",
    "def gen(var):\n",
    "    for c in var:\n",
    "        if c % 2 == 0:\n",
    "            yield c\n",
    "for num in gen(lst):\n",
    "    print(num)"
   ]
  },
  {
   "cell_type": "markdown",
   "id": "2bd06211-aa4f-4e15-b30b-0b7d260b80bb",
   "metadata": {},
   "source": [
    "##### Q5. Create a generator function for prime numbers less than 1000. Use the next() method to print the first 20 prime numbers?\n"
   ]
  },
  {
   "cell_type": "code",
   "execution_count": 90,
   "id": "19ab76d9-eed5-4f8a-81dc-84183e89a1c9",
   "metadata": {},
   "outputs": [],
   "source": [
    "numbers = []\n",
    "for i in range (2, 101):\n",
    "    for j in range(1, 101):\n",
    "        if i % j == 0:\n",
    "            numbers.append(i)"
   ]
  },
  {
   "cell_type": "code",
   "execution_count": 93,
   "id": "965a0253-fa2f-43bb-a14c-5dc55c033209",
   "metadata": {},
   "outputs": [],
   "source": [
    "nums = [x for x in numbers if numbers.count(x) <=2]\n",
    "prime_num = list(set(prime_nums))"
   ]
  },
  {
   "cell_type": "code",
   "execution_count": 98,
   "id": "c19206ab-d57c-437f-a429-5d311dca8a8a",
   "metadata": {},
   "outputs": [],
   "source": [
    "def prime():\n",
    "    numbers = []\n",
    "    for i in range (2, 1000):\n",
    "        for j in range(1, 1000):\n",
    "            if i % j == 0:\n",
    "                numbers.append(i)\n",
    "    nums = [x for x in numbers if numbers.count(x) <=2]\n",
    "    prime_num = list(set(prime_nums))\n",
    "    iterator = iter(prime_num)\n",
    "    for i in range(20):\n",
    "        print(next(iterator))\n",
    "\n",
    "        "
   ]
  },
  {
   "cell_type": "code",
   "execution_count": null,
   "id": "648ddbf2-caf9-4808-bcbc-009d9c610df3",
   "metadata": {},
   "outputs": [],
   "source": []
  },
  {
   "cell_type": "code",
   "execution_count": null,
   "id": "01d6bd56-0922-4567-b515-7c08666d65db",
   "metadata": {},
   "outputs": [],
   "source": []
  },
  {
   "cell_type": "code",
   "execution_count": null,
   "id": "2303a637-136f-4de5-bb68-454b5d8bea1c",
   "metadata": {},
   "outputs": [],
   "source": []
  }
 ],
 "metadata": {
  "kernelspec": {
   "display_name": "Python 3 (ipykernel)",
   "language": "python",
   "name": "python3"
  },
  "language_info": {
   "codemirror_mode": {
    "name": "ipython",
    "version": 3
   },
   "file_extension": ".py",
   "mimetype": "text/x-python",
   "name": "python",
   "nbconvert_exporter": "python",
   "pygments_lexer": "ipython3",
   "version": "3.10.8"
  }
 },
 "nbformat": 4,
 "nbformat_minor": 5
}
