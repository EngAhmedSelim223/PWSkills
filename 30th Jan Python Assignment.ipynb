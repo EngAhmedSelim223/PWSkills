{
 "cells": [
  {
   "cell_type": "markdown",
   "id": "04675348-ca89-4a65-9d01-c18d87c00d14",
   "metadata": {},
   "source": [
    "### 1. Write a program to accept percentage from the user and display the grade according to the following\n",
    "* \\> 90 ==> A\n",
    "* \\> 80 and <= 90 ==> B\n",
    "* \\>= 60 and <= 80 ==> C\n",
    "* Below 60 ==> D\n",
    "\n"
   ]
  },
  {
   "cell_type": "code",
   "execution_count": 4,
   "id": "747ee854-3c11-4f11-8fc5-e58d7f5f8686",
   "metadata": {},
   "outputs": [
    {
     "name": "stdin",
     "output_type": "stream",
     "text": [
      "enter your percentage Please:  59\n"
     ]
    },
    {
     "name": "stdout",
     "output_type": "stream",
     "text": [
      "your grade is D\n"
     ]
    }
   ],
   "source": [
    "percentage = int(input(\"enter your percentage Please: \"))\n",
    "if percentage > 90:\n",
    "    print(\"your grade is A\")\n",
    "elif percentage > 80 and percentage <= 90:\n",
    "    print(\"your grade is B\")\n",
    "elif percentage >= 60 and percentage <=80:\n",
    "    print(\"your grade is C\")\n",
    "elif percentage < 60 :\n",
    "    print(\"your grade is D\")\n"
   ]
  },
  {
   "cell_type": "markdown",
   "id": "d4e2f48f-5a41-4686-844f-b2df947dcabe",
   "metadata": {},
   "source": [
    "### 2. write a program to accept the cost price of a bike and display the road tax to be paid accoring to the following criteria\n",
    "* 15% ==> > 100000\n",
    "* 10% ==> > 50000 and <= 100000\n",
    "* 5% ==> <= 50000"
   ]
  },
  {
   "cell_type": "code",
   "execution_count": 8,
   "id": "8bbf8984-0ffd-4c2b-b346-f207ad85f540",
   "metadata": {},
   "outputs": [
    {
     "name": "stdin",
     "output_type": "stream",
     "text": [
      "please enter the bike cost price:  50000\n"
     ]
    },
    {
     "name": "stdout",
     "output_type": "stream",
     "text": [
      "the road tax to be paid is 2500.0\n"
     ]
    }
   ],
   "source": [
    "cost_price = int(input(\"please enter the bike cost price: \"))\n",
    "if cost_price > 100000:\n",
    "    print(f\"the road tax to be paid is {cost_price*0.15}\")\n",
    "elif cost_price > 50000 and cost_price <= 100000:\n",
    "    print(f\"the road tax to be paid is {cost_price*0.10}\")\n",
    "elif cost_price <= 50000:\n",
    "    print(f\"the road tax to be paid is {cost_price*0.05}\")\n",
    "          "
   ]
  },
  {
   "cell_type": "markdown",
   "id": "1f516366-63ce-4194-a0b8-bcf0b241e750",
   "metadata": {},
   "source": [
    "### 3. Accept City of the user and display monuments of that city\n",
    "* Delhi ==> Red Fort\n",
    "* Agra ==> Taj Mahal\n",
    "* Jaipur ==> Jal Mahal"
   ]
  },
  {
   "cell_type": "code",
   "execution_count": 14,
   "id": "222889b8-00dc-490c-91dd-7c3903cdd963",
   "metadata": {},
   "outputs": [
    {
     "name": "stdin",
     "output_type": "stream",
     "text": [
      "please enter name of the city:  agra\n"
     ]
    },
    {
     "name": "stdout",
     "output_type": "stream",
     "text": [
      "the monuments of agra is Taj Mahal\n"
     ]
    }
   ],
   "source": [
    "city = input(\"please enter name of the city: \").lower()\n",
    "if city == \"delhi\":\n",
    "    print(f\"the monuments of {city} is Red Fort\")\n",
    "elif city == \"agra\":\n",
    "    print(f\"the monuments of {city} is Taj Mahal\")\n",
    "elif city == \"jaipur\":\n",
    "    print(f\"the monuments of {city} is Jal Mahal\")"
   ]
  },
  {
   "cell_type": "markdown",
   "id": "3bdd2963-097b-436d-b316-389278c5a31b",
   "metadata": {},
   "source": [
    "### 4. Check how many times a given number can be divided by 3 before it's less than or equal to 10"
   ]
  },
  {
   "cell_type": "code",
   "execution_count": 4,
   "id": "7fd11c42-b6d1-417c-9499-403dc614c6aa",
   "metadata": {},
   "outputs": [
    {
     "name": "stdin",
     "output_type": "stream",
     "text": [
      "Give a number please:  180\n"
     ]
    },
    {
     "name": "stdout",
     "output_type": "stream",
     "text": [
      "2\n"
     ]
    }
   ],
   "source": [
    "number = int(input(\"Give a number please: \"))\n",
    "count = 0 \n",
    "while(number > 10):\n",
    "    if number % 3 ==0:\n",
    "        count += 1\n",
    "    number = number / 3\n",
    "\n",
    "print(count)"
   ]
  },
  {
   "cell_type": "markdown",
   "id": "d9deebe4-4b67-4f2f-9e33-f2a25792154a",
   "metadata": {},
   "source": [
    "## 5. Why and when to use while loop in python give a detailed description with example.\n",
    "we use a while loop when the loop range is not specified and this is the difference between while and for.\n",
    "for example if we have a list = [1, 2, 3, 4 ]\n",
    "using while is not the best choice as the list is containing a specific number of elements\n",
    "so we use for:</br> \n",
    "for c in list:</br>\n",
    "    print(c)\n",
    "    </br></br>\n",
    "but if we have to make a loop without knowing the number of iterations here we can immediatly use while loop</br>\n",
    "for example : the brevious example when we are trying to know how many times number can be divided by 3"
   ]
  },
  {
   "cell_type": "markdown",
   "id": "a72a8641-0867-442a-807e-3c5019f052a0",
   "metadata": {},
   "source": [
    "### 6. use nested while loop to print 3 different patterns"
   ]
  },
  {
   "cell_type": "code",
   "execution_count": 9,
   "id": "83d2cc40-fc8b-4997-8bf3-9cd5c41fcc95",
   "metadata": {},
   "outputs": [
    {
     "name": "stdin",
     "output_type": "stream",
     "text": [
      "Enter number of rows:  7\n"
     ]
    },
    {
     "name": "stdout",
     "output_type": "stream",
     "text": [
      "*\n",
      "**\n",
      "***\n",
      "****\n",
      "*****\n",
      "******\n",
      "*******\n"
     ]
    }
   ],
   "source": [
    "# The first pattern\n",
    "rows = int(input(\"Enter number of rows: \"))\n",
    "init = 0 \n",
    "while(init < rows):\n",
    "    init += 1\n",
    "    star = 0\n",
    "    while(star < init):\n",
    "        print(\"*\", end =\"\")\n",
    "        star += 1\n",
    "    print(\"\\r\")"
   ]
  },
  {
   "cell_type": "code",
   "execution_count": 21,
   "id": "9fbd7d45-09b3-4f89-bf8b-4cfe410e8ec3",
   "metadata": {},
   "outputs": [
    {
     "name": "stdin",
     "output_type": "stream",
     "text": [
      "Enter number of rows:  7\n"
     ]
    },
    {
     "name": "stdout",
     "output_type": "stream",
     "text": [
      "      *\n",
      "     ***\n",
      "    *****\n",
      "   *******\n",
      "  *********\n",
      " ***********\n",
      "*************\n"
     ]
    }
   ],
   "source": [
    "# The second pattern \n",
    "rows = int(input(\"Enter number of rows: \"))\n",
    "init = 0 \n",
    "while(init < rows):\n",
    "    init +=1\n",
    "    spaces = rows - init\n",
    "    s = 0 \n",
    "    while(s < spaces):\n",
    "        print(\" \", end = \"\")\n",
    "        s += 1\n",
    "    pattern = 2 * init - 1\n",
    "    while(pattern > 0):\n",
    "        print(\"*\", end = \"\")\n",
    "        pattern -= 1\n",
    "            \n",
    "    print(\"\\r\")\n"
   ]
  },
  {
   "cell_type": "code",
   "execution_count": 23,
   "id": "f512309a-2888-4b35-8261-0d327f7b98b5",
   "metadata": {},
   "outputs": [
    {
     "name": "stdin",
     "output_type": "stream",
     "text": [
      "Enter number of rows:  7\n"
     ]
    },
    {
     "name": "stdout",
     "output_type": "stream",
     "text": [
      "      *\n",
      "     **\n",
      "    ***\n",
      "   ****\n",
      "  *****\n",
      " ******\n",
      "*******\n"
     ]
    }
   ],
   "source": [
    "# The third pattern\n",
    "rows = int(input(\"Enter number of rows: \"))\n",
    "init = 0 \n",
    "while(init < rows):\n",
    "    init += 1\n",
    "    spaces = rows - init \n",
    "    s = 0 \n",
    "    while(s < spaces):\n",
    "        print(\" \", end = \"\")\n",
    "        s += 1\n",
    "    print(\"*\" * init, end = \"\")\n",
    "    print(\"\\r\")"
   ]
  },
  {
   "cell_type": "markdown",
   "id": "e0f7c3f2-637c-48c0-b377-0270541ce358",
   "metadata": {},
   "source": [
    "## 7. Reverse a while loop to print numbers from 10 to 1"
   ]
  },
  {
   "cell_type": "code",
   "execution_count": 24,
   "id": "d2bcf60d-a662-41ed-991e-7aebce7ebd93",
   "metadata": {},
   "outputs": [
    {
     "name": "stdout",
     "output_type": "stream",
     "text": [
      "10\n",
      "9\n",
      "8\n",
      "7\n",
      "6\n",
      "5\n",
      "4\n",
      "3\n",
      "2\n",
      "1\n"
     ]
    }
   ],
   "source": [
    "num = 10 \n",
    "while(num >= 1):\n",
    "    print(num)\n",
    "    num -= 1"
   ]
  },
  {
   "cell_type": "code",
   "execution_count": null,
   "id": "2d15f069-9d2d-4d1c-aa9d-d2d483ad11c8",
   "metadata": {},
   "outputs": [],
   "source": []
  }
 ],
 "metadata": {
  "kernelspec": {
   "display_name": "Python 3 (ipykernel)",
   "language": "python",
   "name": "python3"
  },
  "language_info": {
   "codemirror_mode": {
    "name": "ipython",
    "version": 3
   },
   "file_extension": ".py",
   "mimetype": "text/x-python",
   "name": "python",
   "nbconvert_exporter": "python",
   "pygments_lexer": "ipython3",
   "version": "3.10.8"
  }
 },
 "nbformat": 4,
 "nbformat_minor": 5
}
