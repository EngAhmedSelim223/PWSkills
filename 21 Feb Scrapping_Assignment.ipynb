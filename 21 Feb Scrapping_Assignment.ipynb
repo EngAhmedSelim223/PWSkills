{
 "cells": [
  {
   "cell_type": "markdown",
   "id": "fa95a6d7-3fd2-4809-80ce-9cd84add8e1d",
   "metadata": {},
   "source": [
    "##### Q1. What is Web Scraping? Why is it Used? Give three areas where Web Scraping is used to get data."
   ]
  },
  {
   "cell_type": "code",
   "execution_count": 1,
   "id": "2553cf2b-5988-4364-a7ab-7484614ab184",
   "metadata": {},
   "outputs": [],
   "source": [
    "# Q1.Answer:\n",
    "\n",
    "# Web scraping is the process of collecting structured web data in an automated manner.\n",
    "# we use web scraping to save alot of time in collecting data\n",
    "# Some of the main use cases of web scraping include price monitoring, price intelligence, news monitoring, lead generation, and market research"
   ]
  },
  {
   "cell_type": "markdown",
   "id": "43b2eaab-6dd8-4354-ba8e-54fe296da7ea",
   "metadata": {},
   "source": [
    "##### Q2. What are the different methods used for Web Scraping?"
   ]
  },
  {
   "cell_type": "code",
   "execution_count": 2,
   "id": "0e1daa00-49ad-4e73-83ca-329854920647",
   "metadata": {},
   "outputs": [],
   "source": [
    "# Q2.Answer: \n",
    "\n",
    "# we can use requests module and get method to get the url page source in text format and then \n",
    "# use BeautifulSoap to parsing this source to html and then start to use different methods \n",
    "# like find, find_all to get info from html tags"
   ]
  },
  {
   "cell_type": "markdown",
   "id": "b0c404b5-ec3d-42bb-bc80-2937808dde79",
   "metadata": {},
   "source": [
    "##### Q3. What is Beautiful Soup? Why is it used?"
   ]
  },
  {
   "cell_type": "code",
   "execution_count": 3,
   "id": "c25ec806-cfe4-4d46-a2f0-f3eadebe7ca2",
   "metadata": {},
   "outputs": [],
   "source": [
    "# Q3.Answer: \n",
    "\n",
    "# Beautiful Soup is a Python library that makes it easy to scrape information from web pages\n",
    "# it helps with isolating titles and links from webpages. It can extract all of the text from HTML tags, and alter the HTML in the document with which we’re working."
   ]
  },
  {
   "cell_type": "markdown",
   "id": "73e768cf-185a-405b-87e8-9fe7d9b59e38",
   "metadata": {},
   "source": [
    "##### Q4. Why is flask used in this Web Scraping project?"
   ]
  },
  {
   "cell_type": "code",
   "execution_count": 4,
   "id": "22de76e0-c429-4738-8c27-9a67d757c4a2",
   "metadata": {},
   "outputs": [],
   "source": [
    "# Q4.Answer:\n",
    "\n",
    "# because Flask is a lightweight framework to build websites. and it's a good way to deploy this project"
   ]
  },
  {
   "cell_type": "markdown",
   "id": "99b0b310-6ce6-4353-a03d-28640471dd6d",
   "metadata": {},
   "source": [
    "##### Q5. Write the names of AWS services used in this project. Also, explain the use of each service."
   ]
  },
  {
   "cell_type": "code",
   "execution_count": 5,
   "id": "d8eade3d-b50a-48d0-9076-084f69eb04c0",
   "metadata": {},
   "outputs": [],
   "source": [
    "# Q5.Answer:\n",
    "\n",
    "# we use Elastic Beanstalk & CodePipeline"
   ]
  },
  {
   "cell_type": "code",
   "execution_count": null,
   "id": "daccc082-716d-4778-bed6-fbfb264ad481",
   "metadata": {},
   "outputs": [],
   "source": []
  }
 ],
 "metadata": {
  "kernelspec": {
   "display_name": "Python 3 (ipykernel)",
   "language": "python",
   "name": "python3"
  },
  "language_info": {
   "codemirror_mode": {
    "name": "ipython",
    "version": 3
   },
   "file_extension": ".py",
   "mimetype": "text/x-python",
   "name": "python",
   "nbconvert_exporter": "python",
   "pygments_lexer": "ipython3",
   "version": "3.10.8"
  }
 },
 "nbformat": 4,
 "nbformat_minor": 5
}
