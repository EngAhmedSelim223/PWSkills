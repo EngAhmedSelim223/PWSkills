{
 "cells": [
  {
   "cell_type": "markdown",
   "id": "5ec1fcdd-9c10-4cd0-8f59-1075007e6c8e",
   "metadata": {},
   "source": [
    "### Q1. What are the characteristics of the tuples? Is tuple immutable?\n"
   ]
  },
  {
   "cell_type": "code",
   "execution_count": 35,
   "id": "1a394c3f-2559-49b0-a5c5-f25e983b1765",
   "metadata": {},
   "outputs": [],
   "source": [
    "# Q1.Answer:\n",
    "            # Tuples are collections that can store different data types and also we can perform different functionality on tuples \n",
    "            # like other collection but that main difference is that we can't change the value inside so it is immutable collection."
   ]
  },
  {
   "cell_type": "markdown",
   "id": "c2aae235-7421-43f1-8a24-0bf5d79ba2bc",
   "metadata": {},
   "source": [
    "###### Q2. What are the two tuple methods in python? Give an example of each method. Give a reason why tuples have only two in-built methods as compared to Lists?"
   ]
  },
  {
   "cell_type": "code",
   "execution_count": 36,
   "id": "9b413848-4c67-407e-90e7-bfc129666d8e",
   "metadata": {},
   "outputs": [
    {
     "name": "stdout",
     "output_type": "stream",
     "text": [
      "(1, 2, 3, 1, 'ahmed', 'mahmoud', 'ahmed')\n",
      "example for the count method: the count of value ahmed is 2\n",
      "example for the index method: the index of value mahmoud is 5\n"
     ]
    }
   ],
   "source": [
    "# Q2.Answer:\n",
    "            # tuple two methods are (Count & index)\n",
    "t = (1,2,3,1,\"ahmed\", \"mahmoud\", \"ahmed\")\n",
    "print(t)\n",
    "print(\"example for the count method: the count of value ahmed is {}\".format(t.count(\"ahmed\")))\n",
    "print(\"example for the index method: the index of value mahmoud is {}\".format(t.index(\"mahmoud\")))\n",
    "\n",
    "# the tuple contains only two methods comparing to lists as tuple are immutable objects."
   ]
  },
  {
   "cell_type": "markdown",
   "id": "ba4a4920-0996-45c7-a5f8-fe69252792af",
   "metadata": {},
   "source": [
    "Q3. Which collection datatypes in python do not allow duplicate items? Write a code using a set to remove\n",
    "duplicates from the given list.\n",
    "List = [1, 1, 1, 2, 1, 3, 1, 4, 2, 1, 2, 2, 2, 3, 2, 4, 3, 1, 3, 2, 3, 3, 3, 4, 4, 1, 4, 2, 4, 3, 4, 4]"
   ]
  },
  {
   "cell_type": "code",
   "execution_count": 37,
   "id": "84084708-76c0-4296-adb7-c04e1eb80709",
   "metadata": {},
   "outputs": [
    {
     "name": "stdout",
     "output_type": "stream",
     "text": [
      "[1, 1, 1, 2, 1, 3, 1, 4, 2, 1, 2, 2, 2, 3, 2, 4, 3, 1, 3, 2, 3, 3, 3, 4, 4, 1, 4, 2, 4, 3, 4, 4]\n",
      "{1, 2, 3, 4}\n"
     ]
    }
   ],
   "source": [
    "# Q3.Answer : \n",
    "            # the sets are the collections that don't allow duplicates\n",
    "lst = [1, 1, 1, 2, 1, 3, 1, 4, 2, 1, 2, 2, 2, 3, 2, 4, 3, 1, 3, 2, 3, 3, 3, 4, 4, 1, 4, 2, 4, 3, 4, 4]\n",
    "st = set(lst)\n",
    "print(lst)\n",
    "print(st)"
   ]
  },
  {
   "cell_type": "markdown",
   "id": "fab09faf-7577-4865-a8b6-53fa8e2c0f18",
   "metadata": {},
   "source": [
    "##### Q4. Explain the difference between the union() and update() methods for a set. Give an example of each method."
   ]
  },
  {
   "cell_type": "code",
   "execution_count": 38,
   "id": "ecf222df-e8ea-433e-b389-acd0fb09991f",
   "metadata": {},
   "outputs": [
    {
     "name": "stdout",
     "output_type": "stream",
     "text": [
      "{1, 2, 3, 4, 5, 6, 7, 8}\n",
      "{9, 10, 11}\n"
     ]
    }
   ],
   "source": [
    "# Q4.Answer: \n",
    "            # update change the original object with the new value but union dose not it is just print to the console\n",
    "\n",
    "st1 = {1,2,3,4}\n",
    "st2 = {5,6,7,8}\n",
    "st3 = {9,10,11}\n",
    "st1.update(st2)\n",
    "st3.union(st2)\n",
    "print(st1)\n",
    "print(st3)"
   ]
  },
  {
   "cell_type": "markdown",
   "id": "67dd3002-6530-450d-b452-090e8ac65b42",
   "metadata": {},
   "source": [
    "##### Q5. What is a dictionary? Give an example. Also, state whether a dictionary is ordered or unordered."
   ]
  },
  {
   "cell_type": "code",
   "execution_count": 39,
   "id": "f0353db2-d0f1-4c1e-b1e5-d4018d4787cf",
   "metadata": {},
   "outputs": [
    {
     "data": {
      "text/plain": [
       "{'name': 'ahmed',\n",
       " 'age': 27,\n",
       " 'study': 'Computer Science',\n",
       " 'phone': 64154131,\n",
       " 'email': 'ahmed@gmail.com'}"
      ]
     },
     "execution_count": 39,
     "metadata": {},
     "output_type": "execute_result"
    }
   ],
   "source": [
    "# Q5.Answer: \n",
    "            # dictionary is a collection that stores as key value pares and the dictionary is ordered collection\n",
    "d = {\n",
    "    \"name\":\"ahmed\",\n",
    "    \"age\":27,\n",
    "    \"study\":\"Computer Science\", \n",
    "    \"phone\":64154131,\n",
    "    \"email\":\"ahmed@gmail.com\"\n",
    "}\n",
    "d"
   ]
  },
  {
   "cell_type": "markdown",
   "id": "5403f9b7-0b1d-4986-9574-c386cdf8d269",
   "metadata": {},
   "source": [
    "###### Q6. Can we create a nested dictionary? If so, please give an example by creating a simple one-level nested dictionary?"
   ]
  },
  {
   "cell_type": "code",
   "execution_count": 40,
   "id": "ab858ae8-8fff-455f-b1fc-700658ba982b",
   "metadata": {},
   "outputs": [
    {
     "name": "stdout",
     "output_type": "stream",
     "text": [
      "mahmoud@hotmail.com\n"
     ]
    }
   ],
   "source": [
    "# Q6.answer : Yes We Can Create a Nested Dictionary\n",
    "info = {\n",
    "    \"ahmed\":{\"name\":\"ahmed\", \"age\":27,\"email\": \"ahmed@gmail.com\"},\n",
    "    \"mahmoud\": {\"name\": \"mahmoud\", \"age\":22,\"email\":\"mahmoud@hotmail.com\"}\n",
    "}\n",
    "\n",
    "print(info['mahmoud']['email'])"
   ]
  },
  {
   "cell_type": "markdown",
   "id": "0454804f-5eba-40c0-87d8-141d807ef6fe",
   "metadata": {},
   "source": [
    "Q7. Using setdefault() method, create key named topics in the given dictionary and also add the value of\n",
    "the key as this list ['Python', 'Machine Learning’, 'Deep Learning']\n",
    "dict1 = {'language' : 'Python', 'course': 'Data Science Masters'}"
   ]
  },
  {
   "cell_type": "code",
   "execution_count": 44,
   "id": "f79818f3-2a97-4c9e-ba9e-eb5a856dbe7f",
   "metadata": {},
   "outputs": [
    {
     "data": {
      "text/plain": [
       "{'language': 'Python',\n",
       " 'course': 'Data Science Masters',\n",
       " 'topics': ['Python', 'Machine Learning', 'Deep Learning']}"
      ]
     },
     "execution_count": 44,
     "metadata": {},
     "output_type": "execute_result"
    }
   ],
   "source": [
    "# Q7.Answer\n",
    "dict1 = {'language' : 'Python', 'course': 'Data Science Masters'}\n",
    "dict1.setdefault(\"topics\", ['Python', 'Machine Learning', 'Deep Learning'])\n",
    "dict1"
   ]
  },
  {
   "cell_type": "markdown",
   "id": "d9b480fc-15f0-4ec8-b5ba-6eb73d36ff9f",
   "metadata": {},
   "source": [
    "Q8. What are the three view objects in dictionaries? Use the three in-built methods in python to display\n",
    "these three view objects for the given dictionary.\n",
    "dict1 = {'Sport': 'Cricket' , 'Teams': ['India', 'Australia', 'England', 'South Africa', 'Sri Lanka', 'New Zealand']}"
   ]
  },
  {
   "cell_type": "code",
   "execution_count": 45,
   "id": "a138410d-c351-428e-9cc2-d03221329a9c",
   "metadata": {},
   "outputs": [
    {
     "name": "stdout",
     "output_type": "stream",
     "text": [
      "dict_keys(['Sport', 'Teams'])\n",
      "dict_values(['Cricket', ['India', 'Australia', 'England', 'South Africa', 'Sri Lanka', 'New Zealand']])\n",
      "dict_items([('Sport', 'Cricket'), ('Teams', ['India', 'Australia', 'England', 'South Africa', 'Sri Lanka', 'New Zealand'])])\n"
     ]
    }
   ],
   "source": [
    "# Q8.Answer :\n",
    "            # the three view objects in dictionaries are (keys & values & items)\n",
    "dict1 = {'Sport': 'Cricket' , 'Teams': ['India', 'Australia', 'England', 'South Africa', 'Sri Lanka', 'New Zealand']}\n",
    "print(dict1.keys())\n",
    "print(dict1.values())\n",
    "print(dict1.items())"
   ]
  },
  {
   "cell_type": "code",
   "execution_count": null,
   "id": "b557d8a4-ba8e-4ee5-9b02-2863b7b67646",
   "metadata": {},
   "outputs": [],
   "source": []
  }
 ],
 "metadata": {
  "kernelspec": {
   "display_name": "Python 3 (ipykernel)",
   "language": "python",
   "name": "python3"
  },
  "language_info": {
   "codemirror_mode": {
    "name": "ipython",
    "version": 3
   },
   "file_extension": ".py",
   "mimetype": "text/x-python",
   "name": "python",
   "nbconvert_exporter": "python",
   "pygments_lexer": "ipython3",
   "version": "3.10.8"
  }
 },
 "nbformat": 4,
 "nbformat_minor": 5
}
