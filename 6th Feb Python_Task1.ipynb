{
 "cells": [
  {
   "cell_type": "markdown",
   "id": "566eca21-2ed6-43ce-bd02-c44a71987a75",
   "metadata": {},
   "source": [
    "##### Q1. Create a function which will take a list as an argument and return the product of all the numbers after creating a flat list.\n",
    "Use the below-given list as an argument for your function.\n",
    "list1 = [1,2,3,4, [44,55,66, True], False, (34,56,78,89,34), {1,2,3,3,2,1}, {1:34, \"key2\": [55, 67, 78, 89], 4: (45,\n",
    "22, 61, 34)}, [56, 'data science'], 'Machine Learning']\n",
    "Note: you must extract numeric keys and values of the dictionary also."
   ]
  },
  {
   "cell_type": "code",
   "execution_count": 2,
   "id": "58136dc2-856d-4458-8811-72287d1e1e58",
   "metadata": {},
   "outputs": [],
   "source": [
    "list1 = [1,2,3,4, [44,55,66, True], False, (34,56,78,89,34), {1,2,3,3,2,1}, {1:34, \"key2\": [55, 67, 78, 89], 4: (45,22, 61, 34)}, [56, 'data science'], 'Machine Learning']"
   ]
  },
  {
   "cell_type": "code",
   "execution_count": 42,
   "id": "201c8e36-f509-4d7f-acf1-f79cb861b3a6",
   "metadata": {},
   "outputs": [],
   "source": [
    "# Q1.Answer:\n",
    "\n",
    "def get_product(lst):\n",
    "    main_lst = []\n",
    "    for y in lst :\n",
    "        if type(y) == int:\n",
    "            main_lst.append(y)\n",
    "        elif type(y) == list or type(y) == tuple:\n",
    "            for x in y:\n",
    "                if type(x) == int:\n",
    "                    main_lst.append(x)\n",
    "        elif type(y) == set:\n",
    "            set_lst = list(y)\n",
    "            for i in set_lst:\n",
    "                main_lst.append(i)\n",
    "        elif type(y) == dict:\n",
    "            for key in y.keys():\n",
    "                if type(key) == int:\n",
    "                    main_lst.append(key)\n",
    "            for val in y.values():\n",
    "                if type(val) == int:\n",
    "                    main_lst.append(val)\n",
    "                elif type(val) == list or type(val) == tuple or type(val) == set:\n",
    "                    for v in val :\n",
    "                        if type(v) == int:\n",
    "                            main_lst.append(v)\n",
    "                            \n",
    "    prodcut = 1 \n",
    "    for num in main_lst:\n",
    "        prodcut = prodcut * num \n",
    "                            \n",
    "    return prodcut\n",
    "\n",
    "        \n",
    "\n",
    "        "
   ]
  },
  {
   "cell_type": "code",
   "execution_count": 46,
   "id": "4ed76a5a-27c8-4d21-a94e-662a5d1ae646",
   "metadata": {},
   "outputs": [
    {
     "data": {
      "text/plain": [
       "4134711838987085478833841242112000"
      ]
     },
     "execution_count": 46,
     "metadata": {},
     "output_type": "execute_result"
    }
   ],
   "source": [
    "get_product(list1)"
   ]
  },
  {
   "cell_type": "markdown",
   "id": "2ae1cdc6-096e-4039-9feb-eb729f526e27",
   "metadata": {},
   "source": [
    "Q2. Write a python program for encrypting a message sent to you by your friend. The logic of encryption\n",
    "should be such that, for a the output should be z. For b, the output should be y. For c, the output should\n",
    "be x respectively. Also, the whitespace should be replaced with a dollar sign. Keep the punctuation\n",
    "marks unchanged.\n",
    "Input Sentence: I want to become a Data Scientist.\n",
    "Encrypt the above input sentence using the program you just created.\n",
    "Note: Convert the given input sentence into lowercase before encrypting. The final output should be\n",
    "lowercase."
   ]
  },
  {
   "cell_type": "code",
   "execution_count": 50,
   "id": "463c8693-5995-4954-889a-75bd48937da4",
   "metadata": {},
   "outputs": [],
   "source": [
    "# Q2.Answer:\n",
    "\n",
    "def encrypt(msg):\n",
    "    char_lst = []\n",
    "    for c in msg.lower():\n",
    "        if c == \"a\":\n",
    "            char_lst.append(\"z.\")\n",
    "        elif c == \"b\":\n",
    "            char_lst.append(\"y.\")\n",
    "        elif c == \"c\":\n",
    "            char_lst.append(\"x\")\n",
    "        elif c == \" \":\n",
    "            char_lst.append(\"$\")\n",
    "        else:\n",
    "            char_lst.append(c)\n",
    "            \n",
    "    encrypted_msg = \"\".join(char_lst)\n",
    "    return encrypted_msg\n",
    "        "
   ]
  },
  {
   "cell_type": "code",
   "execution_count": 51,
   "id": "7e902b23-3765-40bb-abb3-019085fdb40f",
   "metadata": {},
   "outputs": [],
   "source": [
    "message = \"I want to become a Data Scientist.\""
   ]
  },
  {
   "cell_type": "code",
   "execution_count": 52,
   "id": "15a822d1-e493-48d1-9b12-b782cd66af04",
   "metadata": {},
   "outputs": [
    {
     "data": {
      "text/plain": [
       "'i$wz.nt$to$y.exome$z.$dz.tz.$sxientist.'"
      ]
     },
     "execution_count": 52,
     "metadata": {},
     "output_type": "execute_result"
    }
   ],
   "source": [
    "encrypt(message)"
   ]
  },
  {
   "cell_type": "code",
   "execution_count": null,
   "id": "f1b31237-8b9e-4330-8bec-acb1baf32b5d",
   "metadata": {},
   "outputs": [],
   "source": []
  }
 ],
 "metadata": {
  "kernelspec": {
   "display_name": "Python 3 (ipykernel)",
   "language": "python",
   "name": "python3"
  },
  "language_info": {
   "codemirror_mode": {
    "name": "ipython",
    "version": 3
   },
   "file_extension": ".py",
   "mimetype": "text/x-python",
   "name": "python",
   "nbconvert_exporter": "python",
   "pygments_lexer": "ipython3",
   "version": "3.10.8"
  }
 },
 "nbformat": 4,
 "nbformat_minor": 5
}
