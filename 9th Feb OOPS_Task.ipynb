{
 "cells": [
  {
   "cell_type": "markdown",
   "id": "e3a9dd51-e9b6-4738-a6ab-574fef9635e5",
   "metadata": {},
   "source": [
    "##### Q1, Create a vehicle class with an init method having instance variables as name_of_vehicle, max_speed and average_of_vehicle."
   ]
  },
  {
   "cell_type": "code",
   "execution_count": 23,
   "id": "82890fed-95a2-4cbf-bb47-e3ad84157319",
   "metadata": {},
   "outputs": [],
   "source": [
    "# Q1.Answer:\n",
    "\n",
    "class vehicle:\n",
    "    def __init__(self, name_of_vehicle, max_speed, average_of_vehicle):\n",
    "        self.name_of_vehicle = name_of_vehicle\n",
    "        self.max_speed = max_speed\n",
    "        self.average_of_vehicle = average_of_vehicle"
   ]
  },
  {
   "cell_type": "markdown",
   "id": "9ed50b21-bc4b-4033-9399-15b243db0e14",
   "metadata": {},
   "source": [
    "Q2. Create a child class car from the vehicle class created in Que 1, which will inherit the vehicle class.\n",
    "Create a method named seating_capacity which takes capacity as an argument and returns the name of\n",
    "the vehicle and its seating capacity.\n"
   ]
  },
  {
   "cell_type": "code",
   "execution_count": 28,
   "id": "e043fc02-c8fb-40a1-a809-2826d02f566f",
   "metadata": {},
   "outputs": [],
   "source": [
    "# Q2.Answer:\n",
    "\n",
    "class car(vehicle):\n",
    "    def seating_capacity(self, capacity):\n",
    "        \n",
    "        self.capacity = capacity\n",
    "        return f\"the name is {self.name_of_vehicle} and capacity is {self.capacity}\"\n",
    "    "
   ]
  },
  {
   "cell_type": "code",
   "execution_count": 31,
   "id": "2db8038e-3cad-4115-bcc2-f0c049046f6a",
   "metadata": {},
   "outputs": [],
   "source": [
    "toyota = car(\"BMW\", 340, 250)"
   ]
  },
  {
   "cell_type": "code",
   "execution_count": 32,
   "id": "b3bb645a-7464-41eb-9e63-07902f0c6187",
   "metadata": {},
   "outputs": [
    {
     "data": {
      "text/plain": [
       "'the name is BMW and capacity is 2'"
      ]
     },
     "execution_count": 32,
     "metadata": {},
     "output_type": "execute_result"
    }
   ],
   "source": [
    "toyota.seating_capacity(2)"
   ]
  },
  {
   "cell_type": "markdown",
   "id": "b646bc31-7d80-41b5-acaa-96803fac155e",
   "metadata": {},
   "source": [
    "##### Q3. What is multiple inheritance? Write a python code to demonstrate multiple inheritance."
   ]
  },
  {
   "cell_type": "code",
   "execution_count": 33,
   "id": "1ce25158-ed2e-4b0a-80c6-8856cb22f753",
   "metadata": {},
   "outputs": [
    {
     "name": "stdout",
     "output_type": "stream",
     "text": [
      "this is class 2\n"
     ]
    }
   ],
   "source": [
    "# Q3.Answer:\n",
    "# inhertance means inherit features from uplevel class and this help to increase code usability \n",
    "# single inhertance \n",
    "\n",
    "class class1:\n",
    "    def __init__(self):\n",
    "        print(\"this is class 1\")\n",
    "    def method_class1(self):\n",
    "        print(\"this is class 1 method\")\n",
    "class class2(class1):\n",
    "    def __init__(self):\n",
    "        print(\"this is class 2\")\n",
    "        \n",
    "    def method_class2(self):\n",
    "        print(\"this is class 2 method \")\n",
    "class2_obj = class2()\n",
    "# if we press . we will find the method_class2, method_class1 also "
   ]
  },
  {
   "cell_type": "code",
   "execution_count": 34,
   "id": "16083a50-56f7-42f3-a919-1c2229057575",
   "metadata": {},
   "outputs": [
    {
     "name": "stdout",
     "output_type": "stream",
     "text": [
      "this is class 4\n"
     ]
    }
   ],
   "source": [
    "# this is multi inhertance exaample\n",
    "class class3(class2, class1):\n",
    "    def __init__(self):\n",
    "        print(\"this is class 3\")\n",
    "        \n",
    "    def method_class3(self):\n",
    "        print(\"this is class 3 method\")\n",
    "# this is multi leve inhertance \n",
    "\n",
    "class class4(class3):\n",
    "    def __init__(self):\n",
    "        print(\"this is class 4\")\n",
    "        \n",
    "    def method_class4(self):\n",
    "        print(\"this is class 4 method\")\n",
    "class4_obj = class4()\n",
    "# here if we press . we will find all the methods from class1, class2, class3, and also class 4"
   ]
  },
  {
   "cell_type": "markdown",
   "id": "2fce72cb-c31c-42ac-a87e-04ecbfaf8674",
   "metadata": {},
   "source": [
    "##### Q4. What are getter and setter in python? Create a class and create a getter and a setter method in this class."
   ]
  },
  {
   "cell_type": "code",
   "execution_count": 7,
   "id": "f533ca03-2294-4739-8ddf-0363dd819d8b",
   "metadata": {},
   "outputs": [],
   "source": [
    "# Q4.Answer:\n",
    "# getter and setter are ways to access class varibale instead of access them directly\n",
    "class employee:\n",
    "    def __init__(self, emp_id, email_id, salary):\n",
    "        self.emp_id = emp_id\n",
    "        self.email_id = email_id\n",
    "        self.__salary = salary\n",
    "    @property   \n",
    "    def get_salary(self):\n",
    "        return self.__salary\n",
    "    @get_salary.setter\n",
    "    def set_salary(self, new_salary):\n",
    "        self.__salary = new_salary"
   ]
  },
  {
   "cell_type": "code",
   "execution_count": 2,
   "id": "7cf6a975-24c0-44f6-acb6-f562453bb4f2",
   "metadata": {},
   "outputs": [],
   "source": [
    "emp1 = employee(\"A255\", \"ahmed@gmail.com\", 4500)"
   ]
  },
  {
   "cell_type": "code",
   "execution_count": 9,
   "id": "de3bbcc9-458c-4ed7-985e-b47fe6e69650",
   "metadata": {},
   "outputs": [
    {
     "data": {
      "text/plain": [
       "5000"
      ]
     },
     "execution_count": 9,
     "metadata": {},
     "output_type": "execute_result"
    }
   ],
   "source": [
    "emp1.get_salary()"
   ]
  },
  {
   "cell_type": "code",
   "execution_count": 10,
   "id": "2d401c77-a61f-49f5-9108-443bfedf9428",
   "metadata": {},
   "outputs": [],
   "source": [
    "emp1.set_salary(5000)"
   ]
  },
  {
   "cell_type": "code",
   "execution_count": 11,
   "id": "a0179bb8-305c-4c9b-b428-652b809a4724",
   "metadata": {},
   "outputs": [
    {
     "data": {
      "text/plain": [
       "5000"
      ]
     },
     "execution_count": 11,
     "metadata": {},
     "output_type": "execute_result"
    }
   ],
   "source": [
    "emp1.get_salary()"
   ]
  },
  {
   "cell_type": "markdown",
   "id": "21dc1a7b-edf8-4bdc-acba-58bd85be4d6a",
   "metadata": {},
   "source": [
    "##### Q5.What is method overriding in python? Write a python code to demonstrate method overriding."
   ]
  },
  {
   "cell_type": "code",
   "execution_count": 12,
   "id": "d7c3594b-8f42-476d-a3b2-d1e4bcde6d46",
   "metadata": {},
   "outputs": [],
   "source": [
    "# Q5.Answer:\n",
    "# it's an ability in OOP that allow subclass or the child class the change the implementation of parent class method\n",
    "\n",
    "class parent:\n",
    "    def __init__(self):\n",
    "        pass\n",
    "    def details(self):\n",
    "        print(\"this is parent class details method\")\n",
    "\n",
    "\n",
    "        \n",
    "class child(parent):\n",
    "    def __init__(self):\n",
    "        pass\n",
    "    \n",
    "    def details(self):\n",
    "        print(\"this is child class details method\")"
   ]
  },
  {
   "cell_type": "code",
   "execution_count": 13,
   "id": "a16bd64d-9880-42a4-a1b8-d659f677d09a",
   "metadata": {},
   "outputs": [],
   "source": [
    "parent_obj = parent()\n",
    "child_obj = child()"
   ]
  },
  {
   "cell_type": "code",
   "execution_count": 14,
   "id": "b28fdc52-840f-4b8e-920a-b2c89735948c",
   "metadata": {},
   "outputs": [
    {
     "name": "stdout",
     "output_type": "stream",
     "text": [
      "this is parent class details method\n"
     ]
    }
   ],
   "source": [
    "parent_obj.details()"
   ]
  },
  {
   "cell_type": "code",
   "execution_count": 15,
   "id": "8d611126-8fb9-4f51-bd26-85a328505727",
   "metadata": {},
   "outputs": [
    {
     "name": "stdout",
     "output_type": "stream",
     "text": [
      "this is child class details method\n"
     ]
    }
   ],
   "source": [
    "child_obj.details()"
   ]
  },
  {
   "cell_type": "code",
   "execution_count": null,
   "id": "0f7a105f-9633-4eeb-aadc-5c29a0673f3c",
   "metadata": {},
   "outputs": [],
   "source": []
  }
 ],
 "metadata": {
  "kernelspec": {
   "display_name": "Python 3 (ipykernel)",
   "language": "python",
   "name": "python3"
  },
  "language_info": {
   "codemirror_mode": {
    "name": "ipython",
    "version": 3
   },
   "file_extension": ".py",
   "mimetype": "text/x-python",
   "name": "python",
   "nbconvert_exporter": "python",
   "pygments_lexer": "ipython3",
   "version": "3.10.8"
  }
 },
 "nbformat": 4,
 "nbformat_minor": 5
}
