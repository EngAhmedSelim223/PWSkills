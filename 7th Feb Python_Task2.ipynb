{
 "cells": [
  {
   "cell_type": "markdown",
   "id": "4d679c6f-5c57-47c8-ad97-715967c5d761",
   "metadata": {},
   "source": [
    "Q1. You are writing code for a company. The requirement of the company is that you create a python\n",
    "function that will check whether the password entered by the user is correct or not. The function should\n",
    "take the password as input and return the string “Valid Password” if the entered password follows the\n",
    "below-given password guidelines else it should return “Invalid Password”.\n",
    "Note: 1. The Password should contain at least two uppercase letters and at least two lowercase letters.\n",
    "2. The Password should contain at least a number and three special characters.\n",
    "3. The length of the password should be 10 characters long."
   ]
  },
  {
   "cell_type": "code",
   "execution_count": 11,
   "id": "30e71e6c-9710-4740-87c3-3ca14bbb045a",
   "metadata": {},
   "outputs": [],
   "source": [
    "# Q1.Answer:\n",
    "\n",
    "def password_checker(paswd):\n",
    "    upper_count = 0\n",
    "    lower_count = 0\n",
    "    number_count = 0\n",
    "    special_char_count = 0\n",
    "    paswd_lst = list(paswd)\n",
    "    for c in paswd_lst:\n",
    "        if c.isupper() == True:\n",
    "            upper_count +=1 \n",
    "        elif c.islower() == True:\n",
    "            lower_count +=1\n",
    "        elif c.isnumeric() == True:\n",
    "            number_count +=1\n",
    "        elif not c.isalnum() == True:\n",
    "            special_char_count += 1\n",
    "    password_length = len(paswd_lst)\n",
    "    if upper_count >= 2 and lower_count >=2 and number_count >=1 and special_char_count >=3 and password_length == 10:\n",
    "        return \"Valid Password\"\n",
    "    else:\n",
    "        return \"Invalid Password\"\n",
    "    \n",
    "            \n",
    "        \n",
    "    "
   ]
  },
  {
   "cell_type": "code",
   "execution_count": 16,
   "id": "7d77d160-c2ff-4742-b94e-eda67731866b",
   "metadata": {},
   "outputs": [
    {
     "data": {
      "text/plain": [
       "'Valid Password'"
      ]
     },
     "execution_count": 16,
     "metadata": {},
     "output_type": "execute_result"
    }
   ],
   "source": [
    "password_checker(\"AHme9#$@q7\")"
   ]
  },
  {
   "cell_type": "markdown",
   "id": "341a232d-470a-4612-8166-7e55670cc7b6",
   "metadata": {},
   "source": [
    "Q2. Solve the below-given questions using at least one of the following:\n",
    "1. Lambda functioJ\n",
    "2. Filter functioJ\n",
    "3. Zap functioJ\n",
    "4. List ComprehensioI\n",
    "B Check if the string starts with a particular letterY\n",
    "B Check if the string is numericY\n",
    "B Sort a list of tuples having fruit names and their quantity. [(\"mango\",99),(\"orange\",80), (\"grapes\", 1000)-\n",
    "B Find the squares of numbers from 1 to 10Y\n",
    "B Find the cube root of numbers from 1 to 10Y\n",
    "B Check if a given number is evenY\n",
    "B Filter odd numbers from the given list.\n",
    "[1,2,3,4,5,6,7,8,9,10-\n",
    "B Sort a list of integers into positive and negative integers lists.\n",
    "[1,2,3,4,5,6,-1,-2,-3,-4,-5,0]"
   ]
  },
  {
   "cell_type": "code",
   "execution_count": 17,
   "id": "26e15d48-08d3-4908-9f97-2b43f1baa869",
   "metadata": {},
   "outputs": [
    {
     "data": {
      "text/plain": [
       "True"
      ]
     },
     "execution_count": 17,
     "metadata": {},
     "output_type": "execute_result"
    }
   ],
   "source": [
    "# Q2.Answer:\n",
    "# 1. Check if the string starts with a particular letter\n",
    "s = \"pwskills\"\n",
    "s.startswith(\"p\")"
   ]
  },
  {
   "cell_type": "code",
   "execution_count": 18,
   "id": "5b5b0956-1849-4942-b909-904d7c528e94",
   "metadata": {},
   "outputs": [
    {
     "data": {
      "text/plain": [
       "False"
      ]
     },
     "execution_count": 18,
     "metadata": {},
     "output_type": "execute_result"
    }
   ],
   "source": [
    "# Q2.Answer:\n",
    "# 2. Check if the string is numeric.\n",
    "s = \"pwskills\"\n",
    "s.isnumeric()\n"
   ]
  },
  {
   "cell_type": "code",
   "execution_count": 20,
   "id": "0a4369d9-2d25-4c1d-a10e-b2d43dfe8de7",
   "metadata": {},
   "outputs": [
    {
     "data": {
      "text/plain": [
       "[('grapes', 1000), ('mango', 99), ('orange', 80)]"
      ]
     },
     "execution_count": 20,
     "metadata": {},
     "output_type": "execute_result"
    }
   ],
   "source": [
    "# Q2.Answer:\n",
    "# 3. Sort a list of tuples having fruit names and their quantity. [(\"mango\",99),(\"orange\",80), (\"grapes\", 1000)]\n",
    "fruits = [(\"mango\",99),(\"orange\",80), (\"grapes\", 1000)]\n",
    "fruits.sort()\n",
    "fruits"
   ]
  },
  {
   "cell_type": "code",
   "execution_count": 22,
   "id": "c37c64e4-0fbc-427d-bca1-8a9cdd6b3dc9",
   "metadata": {},
   "outputs": [
    {
     "data": {
      "text/plain": [
       "[1, 4, 9, 16, 25, 36, 49, 64, 81, 100]"
      ]
     },
     "execution_count": 22,
     "metadata": {},
     "output_type": "execute_result"
    }
   ],
   "source": [
    "# Q2.Answer:\n",
    "# 4. Find the squares of numbers from 1 to 10.\n",
    "list(map(lambda x : x**2, [x for x in range(1, 11)]))"
   ]
  },
  {
   "cell_type": "code",
   "execution_count": 25,
   "id": "c480931b-5a63-4b0b-8462-e598c8462524",
   "metadata": {},
   "outputs": [
    {
     "data": {
      "text/plain": [
       "[1.0,\n",
       " 1.2599210498948732,\n",
       " 1.4422495703074083,\n",
       " 1.5874010519681994,\n",
       " 1.7099759466766968,\n",
       " 1.8171205928321397,\n",
       " 1.912931182772389,\n",
       " 2.0,\n",
       " 2.080083823051904,\n",
       " 2.154434690031884]"
      ]
     },
     "execution_count": 25,
     "metadata": {},
     "output_type": "execute_result"
    }
   ],
   "source": [
    "# Q2.Answer:\n",
    "# 5. Find the cube root of numbers from 1 to 10.\n",
    "def cube_root_func(x):\n",
    "    if x < 0:\n",
    "        x = abs(x)\n",
    "        cube_root = pow(x,1/3)*(-1)\n",
    "    else:\n",
    "        cube_root = pow(x,1/3)\n",
    "\n",
    "    return cube_root\n",
    "\n",
    "cube_root_list = list(map(cube_root_func, [x for x in range(1,11)]))\n",
    "cube_root_list"
   ]
  },
  {
   "cell_type": "code",
   "execution_count": 27,
   "id": "3d89abdf-64e6-49ce-aaa6-a5bb55f51719",
   "metadata": {},
   "outputs": [
    {
     "name": "stdin",
     "output_type": "stream",
     "text": [
      "please enter a number:  4\n"
     ]
    },
    {
     "name": "stdout",
     "output_type": "stream",
     "text": [
      "even\n"
     ]
    }
   ],
   "source": [
    "# Q2.Answer:\n",
    "# 6. Check if a given number is even.\n",
    "num = int(input(\"please enter a number: \"))\n",
    "if num % 2 == 0:\n",
    "    print(\"even\")\n",
    "else:\n",
    "    print(\"odd\")"
   ]
  },
  {
   "cell_type": "code",
   "execution_count": 29,
   "id": "b1cbcdfb-4a81-4cd7-99a7-3f1dd760e7f6",
   "metadata": {},
   "outputs": [
    {
     "data": {
      "text/plain": [
       "[1, 3, 5, 7, 9]"
      ]
     },
     "execution_count": 29,
     "metadata": {},
     "output_type": "execute_result"
    }
   ],
   "source": [
    "# Q2.Answer:\n",
    "# 7. Filter odd numbers from the given list. [1,2,3,4,5,6,7,8,9,10]\n",
    "num_lst = [1,2,3,4,5,6,7,8,9,10]\n",
    "odd_lst = [x for x in num_lst if x % 2 !=0]\n",
    "odd_lst"
   ]
  },
  {
   "cell_type": "code",
   "execution_count": 36,
   "id": "c5e11a10-93b7-446a-9cfe-ba133e50db42",
   "metadata": {},
   "outputs": [
    {
     "data": {
      "text/plain": [
       "[[1, 2, 3, 4, 5, 6, 0], [-1, -2, -3, -4, -5]]"
      ]
     },
     "execution_count": 36,
     "metadata": {},
     "output_type": "execute_result"
    }
   ],
   "source": [
    "# Q2.Answer:\n",
    "# 8. Sort a list of integers into positive and negative integers lists. [1,2,3,4,5,6,-1,-2,-3,-4,-5,0]\n",
    "lst = [1,2,3,4,5,6,-1,-2,-3,-4,-5,0]\n",
    "sorted_lst = [list(filter(lambda x : x >= 0, lst)),list(filter(lambda x : x < 0, lst))]\n",
    "sorted_lst"
   ]
  },
  {
   "cell_type": "code",
   "execution_count": null,
   "id": "e4161829-5eeb-4510-81af-0055a67c374c",
   "metadata": {},
   "outputs": [],
   "source": []
  }
 ],
 "metadata": {
  "kernelspec": {
   "display_name": "Python 3 (ipykernel)",
   "language": "python",
   "name": "python3"
  },
  "language_info": {
   "codemirror_mode": {
    "name": "ipython",
    "version": 3
   },
   "file_extension": ".py",
   "mimetype": "text/x-python",
   "name": "python",
   "nbconvert_exporter": "python",
   "pygments_lexer": "ipython3",
   "version": "3.10.8"
  }
 },
 "nbformat": 4,
 "nbformat_minor": 5
}
