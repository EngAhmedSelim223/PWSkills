{
 "cells": [
  {
   "cell_type": "markdown",
   "id": "4a118129-32db-4cae-b2fb-3438805954e1",
   "metadata": {},
   "source": [
    "##### Q1. What is multiprocessing in python? Why is it useful?"
   ]
  },
  {
   "cell_type": "code",
   "execution_count": 1,
   "id": "a8cfb4ed-0771-49e1-a685-9c89475eefe3",
   "metadata": {},
   "outputs": [],
   "source": [
    "# Q1.Answer:\n",
    "\n",
    "# Multiprocessing is a python module that help us to use the maximum power of our CPU \n",
    "# so it helps to improve the programe performance and decrease the time cost for running our programme\n"
   ]
  },
  {
   "cell_type": "markdown",
   "id": "b05a81ac-1017-4caa-b969-1ce606b5f55a",
   "metadata": {},
   "source": [
    "##### Q2. What are the differences between multiprocessing and multithreading?"
   ]
  },
  {
   "cell_type": "code",
   "execution_count": 2,
   "id": "0885dc67-59f4-4359-96c8-e36cb83468b4",
   "metadata": {},
   "outputs": [],
   "source": [
    "# Q2.Answer: \n",
    "\n",
    "# multiprocessing use more than one CPU to increase the performance of the programme\n",
    "# multithreading ses a single process with multiple code segments to increase the performance of the programme"
   ]
  },
  {
   "cell_type": "markdown",
   "id": "f5dbb0d6-9a5b-4ffd-89ca-440b505d3908",
   "metadata": {},
   "source": [
    "##### Q3. Write a python code to create a process using the multiprocessing module."
   ]
  },
  {
   "cell_type": "code",
   "execution_count": 3,
   "id": "4dc8c982-9727-47fd-9a25-233fa9eb41eb",
   "metadata": {},
   "outputs": [],
   "source": [
    "# Q3.Answer:\n",
    "\n",
    "import multiprocessing\n",
    "import time"
   ]
  },
  {
   "cell_type": "code",
   "execution_count": 4,
   "id": "32ac20d4-c44f-4f70-a3b7-8174daa24c48",
   "metadata": {},
   "outputs": [
    {
     "name": "stdout",
     "output_type": "stream",
     "text": [
      "Done\n"
     ]
    }
   ],
   "source": [
    "def test():\n",
    "    time.sleep(1)\n",
    "    print(\"Done\")\n",
    "\n",
    "if __name__ == \"__main__\":\n",
    "    m = multiprocessing.Process(target=test)\n",
    "    \n",
    "    m.start()\n",
    "    m.join()"
   ]
  },
  {
   "cell_type": "markdown",
   "id": "63dad66d-ca17-4500-946d-069445271d2a",
   "metadata": {},
   "source": [
    "##### Q4. What is a multiprocessing pool in python? Why is it used?"
   ]
  },
  {
   "cell_type": "code",
   "execution_count": 5,
   "id": "90d82d0b-93a2-4378-8886-dc7211aad55b",
   "metadata": {},
   "outputs": [],
   "source": [
    "#  multiprocessing pool means collection of processes runs in parallel\n"
   ]
  },
  {
   "cell_type": "markdown",
   "id": "b7496aea-e98a-4831-9337-7e8d4deb3177",
   "metadata": {},
   "source": [
    "##### Q5. How can we create a pool of worker processes in python using the multiprocessing module?\n"
   ]
  },
  {
   "cell_type": "code",
   "execution_count": 7,
   "id": "f2472a03-299d-43ee-b299-72b9cf38a433",
   "metadata": {},
   "outputs": [
    {
     "name": "stdout",
     "output_type": "stream",
     "text": [
      "[27, 64, 125, 216, 216, 343, 658503, 512, 512]\n"
     ]
    }
   ],
   "source": [
    "# Q5.Answer:\n",
    "def cube(n):\n",
    "    return n**3\n",
    "if __name__ == '__main__':\n",
    "    with multiprocessing.Pool(processes=5) as pool :\n",
    "        out =pool.map(cube , [3,4,5,6,6,7,87,8,8])\n",
    "        print(out)"
   ]
  },
  {
   "cell_type": "markdown",
   "id": "9adfa79d-14cc-4d9c-92be-324ff336d3e5",
   "metadata": {},
   "source": [
    "###### Q6. Write a python program to create 4 processes, each process should print a different number using the multiprocessing module in python."
   ]
  },
  {
   "cell_type": "code",
   "execution_count": 20,
   "id": "315d8708-231d-4de3-b5ee-c79d719a2a5b",
   "metadata": {},
   "outputs": [
    {
     "name": "stdout",
     "output_type": "stream",
     "text": [
      "4\n",
      "82\n",
      "63\n",
      "21\n"
     ]
    }
   ],
   "source": [
    "# Q6.Answer:\n",
    "\n",
    "import multiprocessing\n",
    "import time\n",
    "import random\n",
    "\n",
    "def number():\n",
    "    print(random.randint(1,100))\n",
    "    \n",
    "if __name__ == \"__main__\":\n",
    "    process = []\n",
    "    for i in range(4):\n",
    "        pro = multiprocessing.Process(target=number)\n",
    "        process.append(pro)\n",
    "    for p in process:\n",
    "        p.start()\n",
    "    for p in process:\n",
    "        p.join()\n",
    "\n",
    "       \n"
   ]
  },
  {
   "cell_type": "code",
   "execution_count": null,
   "id": "bf4792ee-fa49-4ea7-9528-b042ebd5743f",
   "metadata": {},
   "outputs": [],
   "source": []
  },
  {
   "cell_type": "code",
   "execution_count": null,
   "id": "40ffc7e7-5ac4-4fa1-bf2a-aa7a469a75cc",
   "metadata": {},
   "outputs": [],
   "source": []
  },
  {
   "cell_type": "code",
   "execution_count": null,
   "id": "f154b211-368c-4866-a3f0-a42f4d2d0e33",
   "metadata": {},
   "outputs": [],
   "source": []
  }
 ],
 "metadata": {
  "kernelspec": {
   "display_name": "Python 3 (ipykernel)",
   "language": "python",
   "name": "python3"
  },
  "language_info": {
   "codemirror_mode": {
    "name": "ipython",
    "version": 3
   },
   "file_extension": ".py",
   "mimetype": "text/x-python",
   "name": "python",
   "nbconvert_exporter": "python",
   "pygments_lexer": "ipython3",
   "version": "3.10.8"
  }
 },
 "nbformat": 4,
 "nbformat_minor": 5
}
