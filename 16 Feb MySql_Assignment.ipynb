{
 "cells": [
  {
   "cell_type": "markdown",
   "id": "53a825b9-8185-44d5-8e37-b25391429b74",
   "metadata": {},
   "source": [
    "##### Q1. What is a database? Differentiate between SQL and NoSQL databases."
   ]
  },
  {
   "cell_type": "code",
   "execution_count": 1,
   "id": "f01206ac-dc34-4443-adaa-4f00a0f54f9b",
   "metadata": {},
   "outputs": [],
   "source": [
    "# Q1.Answer:\n",
    "# databse is a collection of structured and organized data \n",
    "# SQL --> the data is stored in tabluear format as tables from rows and columns \n",
    "# NOSQL --> means not only SQL means we can also use non structured data like images and videos"
   ]
  },
  {
   "cell_type": "markdown",
   "id": "422f19b4-803c-440c-968f-87444a791ae6",
   "metadata": {},
   "source": [
    "##### Q2. What is DDL? Explain why CREATE, DROP, ALTER, and TRUNCATE are used with an example.\n"
   ]
  },
  {
   "cell_type": "code",
   "execution_count": 2,
   "id": "b083a95e-d3c8-4108-ae12-537ed7c9e79d",
   "metadata": {},
   "outputs": [],
   "source": [
    "# Q2.Answer:\n",
    "\n",
    "# DDL --> stands for data definiation language and it uses commands like CREATE, DROP, ALTER, TRUNCATE\n",
    "# CREATE -- > used to create table or database --> CREATE DATABASE test;\n",
    "# DROP --> used to drop table or database and drop also the structure of this object --> DROP TABLE table_name;\n",
    "# ALTER --> used to alter table --> ALTER TABLE table_name - ADD COLUMN column_name;\n",
    "# TRUNCATE --> used to remove all the data inside an object but the object structure still exists --> TRUNCATE TABLE table_name"
   ]
  },
  {
   "cell_type": "markdown",
   "id": "590e1512-19bd-4289-b8cb-f9817f4f16d9",
   "metadata": {},
   "source": [
    "##### Q3. What is DML? Explain INSERT, UPDATE, and DELETE with an example."
   ]
  },
  {
   "cell_type": "code",
   "execution_count": 3,
   "id": "3fc4636b-c1d3-42e9-804e-32e9dd33ebfa",
   "metadata": {},
   "outputs": [],
   "source": [
    "# Q3.Answer:\n",
    "\n",
    "# DML --> stands for data manipulation language and it uses commands like INSERT, UPDATE, DELETE \n",
    "# INSERT --> used to insert values in tables --> INSERT INTO table_name VALUES()\n",
    "# UPDATE --> used to update certain value in a table --> UPDATE table_name - set col1 = value - WHERE CONDITION\n",
    "# DELETE --> used to delete values from a table --> DELETE FROM table_name WHERE CONDITION"
   ]
  },
  {
   "cell_type": "markdown",
   "id": "c23d9923-75e7-4e67-9e7c-929b82904bae",
   "metadata": {},
   "source": [
    "##### Q4. What is DQL? Explain SELECT with an example."
   ]
  },
  {
   "cell_type": "code",
   "execution_count": 4,
   "id": "3f7c148a-3f6e-4f29-9c8e-189b9c2905c4",
   "metadata": {},
   "outputs": [],
   "source": [
    "# Q4.Answer:\n",
    "\n",
    "# DQL --> stands for data query language and it uses SELECT command to retrieve data \n",
    "# SELECT --> SELECT * FROM table_name;"
   ]
  },
  {
   "cell_type": "markdown",
   "id": "247259bb-7086-4ac9-9c56-9feebb2deb21",
   "metadata": {},
   "source": [
    "##### Q5. Explain Primary Key and Foreign Key."
   ]
  },
  {
   "cell_type": "code",
   "execution_count": 5,
   "id": "a72ccc83-0202-4538-8892-060a87067a37",
   "metadata": {},
   "outputs": [],
   "source": [
    "# Q5.Answer:\n",
    "\n",
    "# primary key --> is a unique identifier for each row in the table\n",
    "# foreign key --> is a key that is a primary key in a table and a foreign key in another table and used to make relations between different tables\n"
   ]
  },
  {
   "cell_type": "markdown",
   "id": "d55d6039-4388-4667-9500-ba8f6f4d71c2",
   "metadata": {},
   "source": [
    "##### Q6. Write a python code to connect MySQL to python. Explain the cursor() and execute() method."
   ]
  },
  {
   "cell_type": "code",
   "execution_count": null,
   "id": "b105e031-7ef5-41fd-8e5f-30c98bb234b1",
   "metadata": {},
   "outputs": [],
   "source": [
    "# Q6.Answer:\n",
    "\n",
    "# code to connect mysql \n",
    "import mysql.connector\n",
    "conn = mysql.connector.connect(\n",
    "    host = \"localhost\",\n",
    "    user = \"abc\",\n",
    "    password = \"password\"\n",
    ")\n",
    "# cursor --> we can say it's a container that holds the query that we need to execute \n",
    "# cursor code in python \n",
    "cursor = conn.cursor()\n",
    "# excecute --> is a cursor method to execute the query in the cursor and return the result \n",
    "# execute code in python\n",
    "cursor.execute(\"SELECT * FROM test.test_table\")\n",
    "conn.close()"
   ]
  },
  {
   "cell_type": "markdown",
   "id": "1525ad1a-0a50-4c56-8df6-a10e2bf2c239",
   "metadata": {},
   "source": [
    "##### Q7. Give the order of execution of SQL clauses in an SQL query."
   ]
  },
  {
   "cell_type": "code",
   "execution_count": 6,
   "id": "cd2c164f-0562-4875-8230-bfa0075757bb",
   "metadata": {},
   "outputs": [],
   "source": [
    "# Q7.Answer:\n",
    "\n",
    "# the order of execution is :\n",
    "# SELECT --> FROM --> WHERE --> GROUP BY --> HAVING --> ORDER BY"
   ]
  },
  {
   "cell_type": "code",
   "execution_count": null,
   "id": "f5154b02-cf6d-4c32-88d7-18606b97dc47",
   "metadata": {},
   "outputs": [],
   "source": []
  }
 ],
 "metadata": {
  "kernelspec": {
   "display_name": "Python 3 (ipykernel)",
   "language": "python",
   "name": "python3"
  },
  "language_info": {
   "codemirror_mode": {
    "name": "ipython",
    "version": 3
   },
   "file_extension": ".py",
   "mimetype": "text/x-python",
   "name": "python",
   "nbconvert_exporter": "python",
   "pygments_lexer": "ipython3",
   "version": "3.10.8"
  }
 },
 "nbformat": 4,
 "nbformat_minor": 5
}
