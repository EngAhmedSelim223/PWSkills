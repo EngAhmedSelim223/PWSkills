{
 "cells": [
  {
   "cell_type": "markdown",
   "id": "933eb747-af1c-4cba-a576-dfa6ecaab9cb",
   "metadata": {},
   "source": [
    "##### Q1. what is multithreading in python? why is it used? Name the module used to handle threads in python"
   ]
  },
  {
   "cell_type": "code",
   "execution_count": 1,
   "id": "0624259c-c252-4ef9-89f9-0936023bfc1e",
   "metadata": {},
   "outputs": [],
   "source": [
    "# Q1.Answer:\n",
    "\n",
    "# multithreading is the process of performing the same code more than one time one after another\n",
    "# it's used to improve the performance of the programme\n",
    "# we use threading module to handle threads in python"
   ]
  },
  {
   "cell_type": "markdown",
   "id": "3ce96e87-7a14-4a90-b5b5-0af961a57daf",
   "metadata": {},
   "source": [
    "##### Q2. why threading module used? write the use of the following functions\n",
    "* activeCount\n",
    "* currentThread\n",
    "* enumerate"
   ]
  },
  {
   "cell_type": "code",
   "execution_count": 9,
   "id": "2fb90ce0-6e98-4f57-8f68-67f45450c703",
   "metadata": {},
   "outputs": [],
   "source": [
    "# Q2.Answer: \n",
    "\n",
    "# threading used to control running programs on the CPU to improve the performance\n",
    "# activeCount is now debricated and we use active_count() instead and it's show the number of current running threads \n",
    "# currentThread() returns the name of active thread write now when running multiple threads \n",
    "# enumerate()  returns a list of all Thread objects currently alive except the threads not started yet"
   ]
  },
  {
   "cell_type": "markdown",
   "id": "b3cd0ddf-6b84-490c-acda-0c243703c31a",
   "metadata": {},
   "source": [
    "##### Q3. Explain the following functions\n",
    "* run()\n",
    "* start()\n",
    "* join()\n",
    "* isAlive()"
   ]
  },
  {
   "cell_type": "code",
   "execution_count": 18,
   "id": "50442240-5daa-42b7-b227-1cde6932a67b",
   "metadata": {},
   "outputs": [],
   "source": [
    "# Q3.Answer: \n",
    "\n",
    "# run() --> maybe i have multiple functions in the thread and i want to run a certain on in active thread so we use run after the start()\n",
    "# start() --> it's used to start a thread object \n",
    "# join() --> Other threads can call a thread’s join() method. This blocks the calling thread until the thread whose join() method is called is terminated\n",
    "# isAlive() --> is an inbuilt method of the Thread class of the threading module in Python. It uses a Thread object, and checks whether that thread is alive or not, ie, it is still running or not. This method returns True before the run() starts until just after the run() method is executed."
   ]
  },
  {
   "cell_type": "markdown",
   "id": "fc33be8b-2bfb-4645-8888-3482845c4a9f",
   "metadata": {},
   "source": [
    "##### Q4. write a python program to create two threads. Thread one must print the list of squares and thread two must print the list of cubes"
   ]
  },
  {
   "cell_type": "code",
   "execution_count": 21,
   "id": "7f68f404-0798-4e0b-b201-d6ff94fd24a9",
   "metadata": {},
   "outputs": [],
   "source": [
    "import threading\n",
    "import time\n",
    "squares = []\n",
    "cube = []\n",
    "numbers = [1,2,3,4]\n",
    "\n",
    "def output(var):\n",
    "    \n",
    "    squares.append(var ** 2)\n",
    "    cube.append(var ** 3)\n",
    "    "
   ]
  },
  {
   "cell_type": "code",
   "execution_count": 22,
   "id": "7f7eaea1-16cd-4f4e-979c-9822f260378f",
   "metadata": {},
   "outputs": [],
   "source": [
    "myThread = [threading.Thread(target=output, args=(i,)) for i in numbers]"
   ]
  },
  {
   "cell_type": "code",
   "execution_count": 23,
   "id": "e607e9e6-7146-4512-ab1a-5e8572bd0276",
   "metadata": {},
   "outputs": [
    {
     "name": "stdout",
     "output_type": "stream",
     "text": [
      "[1]\n",
      "[1]\n",
      "[1, 4]\n",
      "[1, 8]\n",
      "[1, 4, 9]\n",
      "[1, 8, 27]\n",
      "[1, 4, 9, 16]\n",
      "[1, 8, 27, 64]\n"
     ]
    }
   ],
   "source": [
    "for t in myThread:\n",
    "    t.start()"
   ]
  },
  {
   "cell_type": "markdown",
   "id": "f755dc9c-3883-4583-a3b6-eddc9bf1cf68",
   "metadata": {},
   "source": [
    "##### Q5. State advantages and disadvantages of multithreading"
   ]
  },
  {
   "cell_type": "code",
   "execution_count": 10,
   "id": "309b9f7f-aadb-4a35-a7fa-c7808437ca20",
   "metadata": {},
   "outputs": [],
   "source": [
    "# Q5.Answer: \n",
    "\n",
    "# Advantages:\n",
    " #Enhanced performance by decreased development time\n",
    " #Simultaneous and parallelized occurrence of tasks\n",
    " #Better use of CPU resource\n",
    "# Disadvantages:\n",
    " #Complex debugging and testing processes\n",
    " #Increased difficulty level in writing a program\n"
   ]
  },
  {
   "cell_type": "markdown",
   "id": "0863c072-4d63-4187-bd4f-a983054c37a6",
   "metadata": {},
   "source": [
    "##### Q6.Explain deadlocks and race conditions."
   ]
  },
  {
   "cell_type": "code",
   "execution_count": 17,
   "id": "1835431c-324a-4f51-9f3e-794534a35233",
   "metadata": {},
   "outputs": [],
   "source": [
    "# Q6.Answer:\n",
    "\n",
    "# race conditions :  it's like two processes are competing with each other and this make data corruption\n",
    "# deadlocks : This usually occurs when two processes are waiting for shared resources acquired by others means they wait each other."
   ]
  },
  {
   "cell_type": "code",
   "execution_count": null,
   "id": "7e85ed43-1f9a-49b6-9842-a35ad7890159",
   "metadata": {},
   "outputs": [],
   "source": []
  },
  {
   "cell_type": "code",
   "execution_count": null,
   "id": "e2112079-bd67-4ceb-a745-9d3c1adbced8",
   "metadata": {},
   "outputs": [],
   "source": []
  }
 ],
 "metadata": {
  "kernelspec": {
   "display_name": "Python 3 (ipykernel)",
   "language": "python",
   "name": "python3"
  },
  "language_info": {
   "codemirror_mode": {
    "name": "ipython",
    "version": 3
   },
   "file_extension": ".py",
   "mimetype": "text/x-python",
   "name": "python",
   "nbconvert_exporter": "python",
   "pygments_lexer": "ipython3",
   "version": "3.10.8"
  }
 },
 "nbformat": 4,
 "nbformat_minor": 5
}
