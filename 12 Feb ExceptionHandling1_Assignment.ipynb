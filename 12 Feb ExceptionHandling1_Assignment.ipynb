{
 "cells": [
  {
   "cell_type": "markdown",
   "id": "e3c34b23-2c6f-4a1a-b06b-1bb3423e2f46",
   "metadata": {},
   "source": [
    "##### Q1.what is an exception in python? write the difference between exception and syntax error?"
   ]
  },
  {
   "cell_type": "code",
   "execution_count": 1,
   "id": "fa6785ea-91da-486b-b88b-5f58d1c9185f",
   "metadata": {},
   "outputs": [],
   "source": [
    "# Q1.Answer:\n",
    "\n",
    "# Exception in python means some kind of errors appear when there is an issue with your program\n",
    "# the difference between exception and syntax error is that exception doesn't must to be a syntax error it maybe a logic problem \n",
    "# but the syntax error concerns with the language rules  "
   ]
  },
  {
   "cell_type": "markdown",
   "id": "f2fbfbe6-6ba6-428c-8ea2-7220695bf5c6",
   "metadata": {},
   "source": [
    "##### Q2. What happens when an exeption is not handled? Explain with an example?"
   ]
  },
  {
   "cell_type": "code",
   "execution_count": 2,
   "id": "aaebcd9a-60b6-47e9-88d0-2d33115d6e52",
   "metadata": {},
   "outputs": [
    {
     "ename": "ZeroDivisionError",
     "evalue": "division by zero",
     "output_type": "error",
     "traceback": [
      "\u001b[0;31m---------------------------------------------------------------------------\u001b[0m",
      "\u001b[0;31mZeroDivisionError\u001b[0m                         Traceback (most recent call last)",
      "Cell \u001b[0;32mIn[2], line 6\u001b[0m\n\u001b[1;32m      1\u001b[0m \u001b[38;5;66;03m# Q2.Answer:\u001b[39;00m\n\u001b[1;32m      2\u001b[0m \n\u001b[1;32m      3\u001b[0m \u001b[38;5;66;03m# when the exception is not handled the programe will stop ececution at the error point without completing the entire programme\u001b[39;00m\n\u001b[1;32m      5\u001b[0m a \u001b[38;5;241m=\u001b[39m \u001b[38;5;241m10\u001b[39m \n\u001b[0;32m----> 6\u001b[0m \u001b[38;5;28mprint\u001b[39m(\u001b[43ma\u001b[49m\u001b[38;5;241;43m/\u001b[39;49m\u001b[38;5;241;43m0\u001b[39;49m)\n\u001b[1;32m      7\u001b[0m \u001b[38;5;28mprint\u001b[39m(\u001b[38;5;124m\"\u001b[39m\u001b[38;5;124mthe code executed\u001b[39m\u001b[38;5;124m\"\u001b[39m)\n",
      "\u001b[0;31mZeroDivisionError\u001b[0m: division by zero"
     ]
    }
   ],
   "source": [
    "# Q2.Answer:\n",
    "\n",
    "# when the exception is not handled the programe will stop ececution at the error point without completing the entire programme\n",
    "\n",
    "a = 10 \n",
    "print(a/0)\n",
    "print(\"the code executed\")"
   ]
  },
  {
   "cell_type": "code",
   "execution_count": 3,
   "id": "89798c7e-5a4e-4624-be62-541da9ef930f",
   "metadata": {},
   "outputs": [
    {
     "name": "stdout",
     "output_type": "stream",
     "text": [
      "there is an issue as:  division by zero\n",
      "the code executed\n"
     ]
    }
   ],
   "source": [
    "try:\n",
    "    a = 10 \n",
    "    print(a/0)\n",
    "except Exception as e :\n",
    "    print(\"there is an issue as: \", e)\n",
    "print(\"the code executed\")"
   ]
  },
  {
   "cell_type": "markdown",
   "id": "fd540072-9f34-4c17-9164-b1f9dedbb9b4",
   "metadata": {},
   "source": [
    "##### Q3. Which Python statements are used to catch and handle exeptions? Explain with an example?"
   ]
  },
  {
   "cell_type": "code",
   "execution_count": 4,
   "id": "3dcd489a-e7b6-4b1a-8c7f-db11ece5d7fc",
   "metadata": {},
   "outputs": [
    {
     "name": "stdout",
     "output_type": "stream",
     "text": [
      "there is an issue as:  list index out of range\n"
     ]
    }
   ],
   "source": [
    "# Q3.Answer:\n",
    "\n",
    "# we handle exceptions in python using try, except, else, finally\n",
    "\n",
    "l = [1,2,3]\n",
    "try:\n",
    "    print(l[5])\n",
    "except Exception as e :\n",
    "    print(\"there is an issue as: \", e)"
   ]
  },
  {
   "cell_type": "markdown",
   "id": "94314479-91c5-4bec-b376-5a89bebc9c27",
   "metadata": {},
   "source": [
    "##### Q4. Explain with an example:#\n",
    "\n",
    "* try and else#\n",
    "* finally\n",
    "* raise"
   ]
  },
  {
   "cell_type": "code",
   "execution_count": 8,
   "id": "25e149fa-3837-40c8-83ce-a5c37421238b",
   "metadata": {},
   "outputs": [],
   "source": [
    "# Q4.Answer:\n",
    "\n",
    "# try ==> to write the code , else ==> will run if try itself runs without any excetion\n",
    "# finally ==> will always run even if there is an exception, raise ==> used with our custom Exception\n",
    "\n",
    "class gpavalidation(Exception):\n",
    "    def __init__(self, msg):\n",
    "        self.msg = msg"
   ]
  },
  {
   "cell_type": "code",
   "execution_count": 9,
   "id": "cfe2134a-2881-41dd-9f85-e72a2f7de938",
   "metadata": {},
   "outputs": [],
   "source": [
    "def gpa(GPA):\n",
    "    if GPA < 0:\n",
    "        raise gpavalidation(\"the GPA can not be less than Zero\")\n",
    "    elif GPA > 5 :\n",
    "        raise gpavalidation(\"the GPA can not be more than 5\")\n",
    "    else:\n",
    "        raise gpavalidation(\"the GPA is valid\")"
   ]
  },
  {
   "cell_type": "code",
   "execution_count": 12,
   "id": "152c51ad-1fdc-47b1-8c7b-ef9dea84cf06",
   "metadata": {},
   "outputs": [
    {
     "name": "stdin",
     "output_type": "stream",
     "text": [
      "enter your GPA:  4\n"
     ]
    },
    {
     "name": "stdout",
     "output_type": "stream",
     "text": [
      "the GPA is valid\n"
     ]
    }
   ],
   "source": [
    "try:\n",
    "    GPA = float(input(\"enter your GPA: \"))\n",
    "    gpa(GPA)\n",
    "except gpavalidation as e :\n",
    "    print(e)\n"
   ]
  },
  {
   "cell_type": "markdown",
   "id": "58ddfdae-c840-435a-83e7-eed2294f1425",
   "metadata": {},
   "source": [
    "##### Q5. What are Custom Exeptions in python? Why do we need Custom Exeptions? Explain with an example"
   ]
  },
  {
   "cell_type": "code",
   "execution_count": 13,
   "id": "70c338c7-3f0b-4f92-a17f-49a1d0035760",
   "metadata": {},
   "outputs": [
    {
     "name": "stdin",
     "output_type": "stream",
     "text": [
      "enter your GPA:  4\n"
     ]
    },
    {
     "name": "stdout",
     "output_type": "stream",
     "text": [
      "the GPA is valid\n"
     ]
    }
   ],
   "source": [
    "# Q5.Answer:\n",
    "\n",
    "# maybe we see that some exception will occure and this is not mentioned in the built in class so we need to create our custom to handle this \n",
    "# example as the above\n",
    "class gpavalidation(Exception):\n",
    "    def __init__(self, msg):\n",
    "        self.msg = msg\n",
    "\n",
    "        \n",
    "        \n",
    "def gpa(GPA):\n",
    "    if GPA < 0:\n",
    "        raise gpavalidation(\"the GPA can not be less than Zero\")\n",
    "    elif GPA > 5 :\n",
    "        raise gpavalidation(\"the GPA can not be more than 5\")\n",
    "    else:\n",
    "        raise gpavalidation(\"the GPA is valid\")\n",
    "\n",
    "        \n",
    "        \n",
    "try:\n",
    "    GPA = float(input(\"enter your GPA: \"))\n",
    "    gpa(GPA)\n",
    "except gpavalidation as e :\n",
    "    print(e)\n"
   ]
  },
  {
   "cell_type": "markdown",
   "id": "cf781af8-0cfb-429a-9a30-eead645cd6ac",
   "metadata": {},
   "source": [
    "##### Q6. Create a custom exeption class. Use this class to handle an exeption."
   ]
  },
  {
   "cell_type": "code",
   "execution_count": 14,
   "id": "49067055-87d1-4bea-a9a6-39fc1fc27600",
   "metadata": {},
   "outputs": [
    {
     "name": "stdin",
     "output_type": "stream",
     "text": [
      "enter your GPA:  3\n"
     ]
    },
    {
     "name": "stdout",
     "output_type": "stream",
     "text": [
      "the GPA is valid\n"
     ]
    }
   ],
   "source": [
    "# Q6.Answer:\n",
    "class gpavalidation(Exception):\n",
    "    def __init__(self, msg):\n",
    "        self.msg = msg\n",
    "\n",
    "        \n",
    "        \n",
    "def gpa(GPA):\n",
    "    if GPA < 0:\n",
    "        raise gpavalidation(\"the GPA can not be less than Zero\")\n",
    "    elif GPA > 5 :\n",
    "        raise gpavalidation(\"the GPA can not be more than 5\")\n",
    "    else:\n",
    "        raise gpavalidation(\"the GPA is valid\")\n",
    "\n",
    "        \n",
    "        \n",
    "try:\n",
    "    GPA = float(input(\"enter your GPA: \"))\n",
    "    gpa(GPA)\n",
    "except gpavalidation as e :\n",
    "    print(e)\n"
   ]
  },
  {
   "cell_type": "code",
   "execution_count": null,
   "id": "89313c25-c1ab-4510-b9d2-a3a7166d466c",
   "metadata": {},
   "outputs": [],
   "source": []
  }
 ],
 "metadata": {
  "kernelspec": {
   "display_name": "Python 3 (ipykernel)",
   "language": "python",
   "name": "python3"
  },
  "language_info": {
   "codemirror_mode": {
    "name": "ipython",
    "version": 3
   },
   "file_extension": ".py",
   "mimetype": "text/x-python",
   "name": "python",
   "nbconvert_exporter": "python",
   "pygments_lexer": "ipython3",
   "version": "3.10.8"
  }
 },
 "nbformat": 4,
 "nbformat_minor": 5
}
