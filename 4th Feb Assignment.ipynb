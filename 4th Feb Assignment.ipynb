{
 "cells": [
  {
   "cell_type": "markdown",
   "id": "5377ab9c-2eed-4180-9a8f-0617d9bc7e32",
   "metadata": {},
   "source": [
    "Q1. Create a python program to sort the given list of tuples based on integer value using a\n",
    "lambda function.</br>\n",
    "\n",
    "[('Sachin Tendulkar', 34357), ('Ricky Ponting', 27483), ('Jack Kallis', 25534), ('Virat Kohli', 24936)]\n"
   ]
  },
  {
   "cell_type": "code",
   "execution_count": 34,
   "id": "7056f2b9-0934-4e4a-84b6-9622cebc4f63",
   "metadata": {},
   "outputs": [
    {
     "data": {
      "text/plain": [
       "[('Virat Kohli', 24936),\n",
       " ('Jack Kallis', 25534),\n",
       " ('Ricky Ponting', 27483),\n",
       " ('Sachin Tendulkar', 34357)]"
      ]
     },
     "execution_count": 34,
     "metadata": {},
     "output_type": "execute_result"
    }
   ],
   "source": [
    "lst = [('Sachin Tendulkar', 34357), ('Ricky Ponting', 27483), ('Jack Kallis', 25534), ('Virat Kohli', 24936)]\n",
    "sort_func = lambda x: x[1]\n",
    "sorted_lst = sorted(lst, key = sort_func)\n",
    "sorted_lst"
   ]
  },
  {
   "cell_type": "markdown",
   "id": "e154de85-ce4c-423c-98df-5aad00f9a89e",
   "metadata": {},
   "source": [
    "Q2. Write a Python Program to find the squares of all the numbers in the given list of integers using\n",
    "lambda and map functions.</br>\n",
    "[1, 2, 3, 4, 5, 6, 7, 8, 9, 10]"
   ]
  },
  {
   "cell_type": "code",
   "execution_count": 36,
   "id": "fc2d16b5-0967-48c9-9907-c1b9c44e6f60",
   "metadata": {},
   "outputs": [
    {
     "data": {
      "text/plain": [
       "[1, 4, 9, 16, 25, 36, 49, 64, 81, 100]"
      ]
     },
     "execution_count": 36,
     "metadata": {},
     "output_type": "execute_result"
    }
   ],
   "source": [
    "lst = [1, 2, 3, 4, 5, 6, 7, 8, 9, 10]\n",
    "sqared_lst = list(map(lambda x: x**2, lst))\n",
    "sqared_lst"
   ]
  },
  {
   "cell_type": "markdown",
   "id": "60c0514a-f001-4e7b-aa30-69e94016899c",
   "metadata": {},
   "source": [
    "Q3. Write a python program to convert the given list of integers into a tuple of strings. Use map and\n",
    "lambda functions</br>\n",
    "Given String: [1, 2, 3, 4, 5, 6, 7, 8, 9, 10]</br>\n",
    "Expected output: ('1', '2', '3', '4', '5', '6', '7', '8', '9', '10')"
   ]
  },
  {
   "cell_type": "code",
   "execution_count": 37,
   "id": "e02eed05-485a-4df0-aa2b-ef804f0cece9",
   "metadata": {},
   "outputs": [
    {
     "data": {
      "text/plain": [
       "['1', '2', '3', '4', '5', '6', '7', '8', '9', '10']"
      ]
     },
     "execution_count": 37,
     "metadata": {},
     "output_type": "execute_result"
    }
   ],
   "source": [
    "lst =  [1, 2, 3, 4, 5, 6, 7, 8, 9, 10]\n",
    "str_lst = list(map(lambda x : str(x), lst))\n",
    "str_lst"
   ]
  },
  {
   "cell_type": "markdown",
   "id": "256c9ad9-ae32-4702-80bc-bd2787c37ad5",
   "metadata": {},
   "source": [
    "###### Q4. Write a python program using reduce function to compute the product of a list containing numbers from 1 to 25."
   ]
  },
  {
   "cell_type": "code",
   "execution_count": 38,
   "id": "6af2e1b7-f392-4d1f-a5cb-d5210dcfd84c",
   "metadata": {},
   "outputs": [],
   "source": [
    "from functools import reduce"
   ]
  },
  {
   "cell_type": "code",
   "execution_count": 42,
   "id": "fd82d958-afae-49ea-b03e-d3f14c061eb4",
   "metadata": {},
   "outputs": [
    {
     "data": {
      "text/plain": [
       "15511210043330985984000000"
      ]
     },
     "execution_count": 42,
     "metadata": {},
     "output_type": "execute_result"
    }
   ],
   "source": [
    "lst = [x for x in range(1,26)]\n",
    "product = reduce(lambda x, y : x * y , lst)\n",
    "product"
   ]
  },
  {
   "cell_type": "markdown",
   "id": "35ab14a8-934b-4550-b558-4771748b18cb",
   "metadata": {},
   "source": [
    "Q5. Write a python program to filter the numbers in a given list that are divisible by 2 and 3 using the\n",
    "filter function.</br>\n",
    "[2, 3, 6, 9, 27, 60, 90, 120, 55, 46]"
   ]
  },
  {
   "cell_type": "code",
   "execution_count": 45,
   "id": "48197297-3a81-4d09-84d4-9a52f3652412",
   "metadata": {},
   "outputs": [
    {
     "data": {
      "text/plain": [
       "[6, 60, 90, 120]"
      ]
     },
     "execution_count": 45,
     "metadata": {},
     "output_type": "execute_result"
    }
   ],
   "source": [
    "lst = [2, 3, 6, 9, 27, 60, 90, 120, 55, 46]\n",
    "numbers = list(filter(lambda x : x % 2 == 0 and x % 3 == 0, lst))\n",
    "numbers"
   ]
  },
  {
   "cell_type": "markdown",
   "id": "3c910581-6b17-4ec1-8446-6a34deac60ef",
   "metadata": {},
   "source": [
    "Q6. Write a python program to find palindromes in the given list of strings using lambda and filter\n",
    "function.</br>\n",
    "['python', 'php', 'aba', 'radar', 'level']"
   ]
  },
  {
   "cell_type": "code",
   "execution_count": 47,
   "id": "03cb9057-5954-45fe-9d1e-82526cda7946",
   "metadata": {},
   "outputs": [
    {
     "data": {
      "text/plain": [
       "['php', 'aba', 'radar', 'level']"
      ]
     },
     "execution_count": 47,
     "metadata": {},
     "output_type": "execute_result"
    }
   ],
   "source": [
    "lst = ['python', 'php', 'aba', 'radar', 'level']\n",
    "palindromes = list(filter(lambda x : (x == \"\".join(reversed(x))), lst))\n",
    "palindromes"
   ]
  },
  {
   "cell_type": "code",
   "execution_count": null,
   "id": "de077bb4-f883-491b-a208-840035f907b7",
   "metadata": {},
   "outputs": [],
   "source": []
  }
 ],
 "metadata": {
  "kernelspec": {
   "display_name": "Python 3 (ipykernel)",
   "language": "python",
   "name": "python3"
  },
  "language_info": {
   "codemirror_mode": {
    "name": "ipython",
    "version": 3
   },
   "file_extension": ".py",
   "mimetype": "text/x-python",
   "name": "python",
   "nbconvert_exporter": "python",
   "pygments_lexer": "ipython3",
   "version": "3.10.8"
  }
 },
 "nbformat": 4,
 "nbformat_minor": 5
}
